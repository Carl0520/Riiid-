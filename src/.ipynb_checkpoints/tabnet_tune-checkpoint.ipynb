{
 "cells": [
  {
   "cell_type": "code",
   "execution_count": 1,
   "metadata": {},
   "outputs": [],
   "source": [
    "import dask.dataframe as dd\n",
    "import  pandas as pd\n",
    "import numpy as np\n",
    "from sklearn.metrics import roc_auc_score\n",
    "import time\n",
    "import gc \n",
    "from pytorch_tabnet.tab_model import TabNetClassifier, TabNetRegressor\n",
    "import os\n",
    "import torch \n",
    "from matplotlib import pyplot as plt"
   ]
  },
  {
   "cell_type": "code",
   "execution_count": 2,
   "metadata": {},
   "outputs": [],
   "source": [
    "# start_time = time.time()\n",
    "# train= pd.read_csv('/home/carlchao/Riiid/data/train.csv',\n",
    "#                 usecols=[1, 2, 3,4,7,8,9], dtype={'timestamp': 'int64', 'user_id': 'int32' ,'content_id': 'int16','content_type_id': 'int8','answered_correctly':'int8','prior_question_elapsed_time': 'float32','prior_question_had_explanation': 'int8'})\n",
    "# # train= pd.read_csv('/home/carlchao/Riiid/data/train.csv')\n",
    "# print(\"pandas took %s seconds\" % (time.time() - start_time))\n",
    "# # train = train[train.content_type_id == False]"
   ]
  },
  {
   "cell_type": "code",
   "execution_count": 3,
   "metadata": {},
   "outputs": [
    {
     "data": {
      "text/html": [
       "<style type='text/css'>\n",
       ".datatable table.frame { margin-bottom: 0; }\n",
       ".datatable table.frame thead { border-bottom: none; }\n",
       ".datatable table.frame tr.coltypes td {  color: #FFFFFF;  line-height: 6px;  padding: 0 0.5em;}\n",
       ".datatable .bool    { background: #DDDD99; }\n",
       ".datatable .object  { background: #565656; }\n",
       ".datatable .int     { background: #5D9E5D; }\n",
       ".datatable .float   { background: #4040CC; }\n",
       ".datatable .str     { background: #CC4040; }\n",
       ".datatable .row_index {  background: var(--jp-border-color3);  border-right: 1px solid var(--jp-border-color0);  color: var(--jp-ui-font-color3);  font-size: 9px;}\n",
       ".datatable .frame tr.coltypes .row_index {  background: var(--jp-border-color0);}\n",
       ".datatable th:nth-child(2) { padding-left: 12px; }\n",
       ".datatable .hellipsis {  color: var(--jp-cell-editor-border-color);}\n",
       ".datatable .vellipsis {  background: var(--jp-layout-color0);  color: var(--jp-cell-editor-border-color);}\n",
       ".datatable .na {  color: var(--jp-cell-editor-border-color);  font-size: 80%;}\n",
       ".datatable .footer { font-size: 9px; }\n",
       ".datatable .frame_dimensions {  background: var(--jp-border-color3);  border-top: 1px solid var(--jp-border-color0);  color: var(--jp-ui-font-color3);  display: inline-block;  opacity: 0.6;  padding: 1px 10px 1px 5px;}\n",
       "</style>\n"
      ],
      "text/plain": [
       "<IPython.core.display.HTML object>"
      ]
     },
     "metadata": {},
     "output_type": "display_data"
    },
    {
     "name": "stdout",
     "output_type": "stream",
     "text": [
      "datatable took 5.71057653427124 seconds\n"
     ]
    }
   ],
   "source": [
    "# !pip install datatable\n",
    "import datatable as dt\n",
    "start_time = time.time()\n",
    "train = dt.fread('/home/carlchao/Riiid_data/data/train.csv')\n",
    "train = train.to_pandas()\n",
    "print(\"datatable took %s seconds\" % (time.time() - start_time))\n",
    "\n"
   ]
  },
  {
   "cell_type": "code",
   "execution_count": 4,
   "metadata": {},
   "outputs": [],
   "source": [
    "train = train.sort_values(['timestamp'], ascending=True)\n",
    "\n",
    "train.drop(['timestamp','content_type_id'], axis=1,   inplace=True)\n",
    "\n",
    "results_c = train[['content_id','answered_correctly']].groupby(['content_id']).agg(['mean'])\n",
    "results_c.columns = [\"answered_correctly_content\"]\n",
    "\n",
    "results_u = train[['user_id','answered_correctly']].groupby(['user_id']).agg(['mean', 'sum'])\n",
    "results_u.columns = [\"answered_correctly_user\", 'sum']"
   ]
  },
  {
   "cell_type": "code",
   "execution_count": 5,
   "metadata": {},
   "outputs": [],
   "source": [
    "#reading in question df\n",
    "questions_df = pd.read_csv('/home/carlchao/Riiid_data/data/questions.csv',\n",
    "                            usecols=[0,1, 3,4],\n",
    "                            dtype={'question_id': 'int16',\n",
    "                              'part': 'int8','bundle_id': 'int8','tags': 'str'}\n",
    "                          )\n",
    "tag = questions_df[\"tags\"].str.split(\" \", n = 10, expand = True) \n",
    "tag.columns = ['tags1','tags2','tags3','tags4','tags5','tags6']\n",
    "\n",
    "questions_df =  pd.concat([questions_df,tag],axis=1)\n",
    "questions_df['tags1'] = pd.to_numeric(questions_df['tags1'], errors='coerce')\n",
    "questions_df['tags2'] = pd.to_numeric(questions_df['tags2'], errors='coerce')\n",
    "questions_df['tags3'] = pd.to_numeric(questions_df['tags3'], errors='coerce')\n",
    "questions_df['tags4'] = pd.to_numeric(questions_df['tags4'], errors='coerce')\n",
    "questions_df['tags5'] = pd.to_numeric(questions_df['tags5'], errors='coerce')\n",
    "questions_df['tags6'] = pd.to_numeric(questions_df['tags6'], errors='coerce')"
   ]
  },
  {
   "cell_type": "code",
   "execution_count": null,
   "metadata": {},
   "outputs": [],
   "source": [
    "X = train.iloc[:40000000,:].copy()\n",
    "X['prior_question_had_explanation'].fillna(False, inplace=True)\n",
    "X = pd.merge(X, results_u, on=['user_id'], how=\"left\")\n",
    "X = pd.merge(X, results_c, on=['content_id'], how=\"left\")\n",
    "X = pd.merge(X, questions_df, left_on = 'content_id', right_on = 'question_id', how = 'left')\n",
    "\n",
    "X=X[X.answered_correctly!= -1 ]\n",
    "X=X.sort_values(['user_id'])\n",
    "Y = X[[\"answered_correctly\"]]\n",
    "X = X.drop([\"answered_correctly\"], axis=1)"
   ]
  },
  {
   "cell_type": "code",
   "execution_count": null,
   "metadata": {},
   "outputs": [],
   "source": [
    "X.shape"
   ]
  },
  {
   "cell_type": "code",
   "execution_count": null,
   "metadata": {},
   "outputs": [],
   "source": [
    "from sklearn.preprocessing import LabelEncoder\n",
    "\n",
    "lb_make = LabelEncoder()\n",
    "X[\"prior_question_had_explanation_enc\"] = lb_make.fit_transform(X[\"prior_question_had_explanation\"])\n",
    "X.head()\n",
    "\n",
    "X = X[['answered_correctly_user', 'answered_correctly_content', 'sum','bundle_id','part','prior_question_elapsed_time','prior_question_had_explanation_enc','tags1','tags2','tags3']] \n",
    "X.fillna(0.5,  inplace=True)\n",
    "\n",
    "\n",
    "nunique = X.nunique()\n",
    "categorical_columns = []\n",
    "categorical_dims =  {}\n",
    "\n",
    "for col in ['part','tags1','tags2','tags3']:\n",
    "    if  nunique[col] < 200:\n",
    "        print(col, X[col].nunique())\n",
    "        l_enc = LabelEncoder()\n",
    "        X[col] = X[col].fillna(\"VV_likely\")\n",
    "        X[col] = l_enc.fit_transform(X[col].values)\n",
    "        categorical_columns.append(col)\n",
    "        categorical_dims[col] = len(l_enc.classes_)\n",
    "    else:\n",
    "        X.fillna(X[col].mean(), inplace=True)\n",
    "        \n",
    "from  sklearn.tree import DecisionTreeClassifier\n",
    "from  sklearn.model_selection import train_test_split\n",
    "Xt, Xv, Yt, Yv = train_test_split(X, Y, test_size =0.2, shuffle=False)\n",
    "\n",
    "# import lightgbm as lgb\n",
    "\n",
    "\n",
    "# params = {\n",
    "#     'objective': 'binary',\n",
    "#     'max_bin': 600,\n",
    "#     'learning_rate': 0.02,\n",
    "#     'num_leaves': 80\n",
    "# }\n",
    "\n",
    "\n",
    "# lgb_train = lgb.Dataset(Xt, Yt,categorical_feature = ['part','tags1','tags2','tags3'])\n",
    "# lgb_eval = lgb.Dataset(Xv, Yv, reference=lgb_train,categorical_feature = ['part','tags1','tags2','tags3'])\n",
    "\n",
    "# model = lgb.train(\n",
    "#     params, lgb_train,\n",
    "#     valid_sets=[lgb_train, lgb_eval],\n",
    "#     verbose_eval=10,\n",
    "#     num_boost_round=10000,\n",
    "#     early_stopping_rounds=10,\n",
    "#     categorical_feature = ['part','tags1','tags2','tags3']\n",
    "# )\n"
   ]
  },
  {
   "cell_type": "code",
   "execution_count": null,
   "metadata": {},
   "outputs": [],
   "source": [
    "categorical_columns = ['part','tags1','tags2','tags3']\n",
    "features = X.columns\n",
    "cat_dims = [ categorical_dims[f] for i, f in enumerate(features) if f in categorical_columns]\n",
    "cat_idxs = [ i for i, f in enumerate(features) if f in categorical_columns]"
   ]
  },
  {
   "cell_type": "code",
   "execution_count": null,
   "metadata": {},
   "outputs": [],
   "source": [
    "\n",
    "    \n",
    "max_epochs = 20 if not os.getenv(\"CI\", False) else 2\n",
    "batch_size = 1024\n",
    "clf = TabNetClassifier(cat_idxs=cat_idxs,\n",
    "                       cat_dims=cat_dims,\n",
    "                       cat_emb_dim=1,\n",
    "                       optimizer_fn=torch.optim.Adam, # Any optimizer works here\n",
    "                       optimizer_params=dict(lr=2e-2),\n",
    "                       scheduler_fn=torch.optim.lr_scheduler.OneCycleLR,\n",
    "                       scheduler_params={\"is_batch_level\":True,\n",
    "                                         \"max_lr\":5e-2,\n",
    "                                         \"steps_per_epoch\":int(train.shape[0] / batch_size)+1,\n",
    "                                         \"epochs\":max_epochs\n",
    "                                          },\n",
    "                       mask_type='entmax', # \"sparsemax\",\n",
    "                       verbose =1,\n",
    "                      )"
   ]
  },
  {
   "cell_type": "code",
   "execution_count": null,
   "metadata": {},
   "outputs": [],
   "source": [
    "start_time = time.time()\n",
    "clf.fit(\n",
    "    X_train=Xt.values, y_train=Yt.values.squeeze(),\n",
    "    eval_set=[(Xt.values, Yt.values.squeeze()), (Xv.values, Yv.values.squeeze())],\n",
    "    eval_name=['train', 'valid'],\n",
    "    max_epochs=max_epochs , patience=20,\n",
    "    batch_size=1024, virtual_batch_size=128,\n",
    "    num_workers=0,\n",
    "    drop_last=False,\n",
    "    loss_fn=torch.nn.functional.cross_entropy, # Optional, just an example of list usage,\n",
    "    \n",
    ")\n",
    "print(\"training took %s seconds\" % (time.time() - start_time))"
   ]
  },
  {
   "cell_type": "code",
   "execution_count": null,
   "metadata": {},
   "outputs": [],
   "source": [
    "# plot auc\n",
    "plt.plot(clf.history['train_auc'])\n"
   ]
  },
  {
   "cell_type": "code",
   "execution_count": null,
   "metadata": {},
   "outputs": [],
   "source": [
    "plt.plot(clf.history['loss'])"
   ]
  },
  {
   "cell_type": "code",
   "execution_count": null,
   "metadata": {},
   "outputs": [],
   "source": [
    "plt.plot(clf.history['lr'])"
   ]
  },
  {
   "cell_type": "code",
   "execution_count": null,
   "metadata": {},
   "outputs": [],
   "source": [
    "# y_pred = clf.predict(Xv)\n",
    "# y_true = np.array(Yv)\n",
    "# roc_auc_score(y_true, y_pred)\n",
    "preds_valid = clf.predict_proba(Xv.values)\n"
   ]
  },
  {
   "cell_type": "code",
   "execution_count": null,
   "metadata": {},
   "outputs": [],
   "source": [
    "valid_auc = roc_auc_score(y_score=preds_valid[:,1], y_true=Yv.values.squeeze())\n",
    "# valid_auc = roc_auc_score(y_score=preds_valid, y_true=Yv.values.squeeze())"
   ]
  },
  {
   "cell_type": "code",
   "execution_count": null,
   "metadata": {},
   "outputs": [],
   "source": [
    "valid_auc"
   ]
  },
  {
   "cell_type": "code",
   "execution_count": null,
   "metadata": {},
   "outputs": [],
   "source": [
    "explain_matrix, masks = clf.explain(Xv.values)"
   ]
  },
  {
   "cell_type": "code",
   "execution_count": null,
   "metadata": {},
   "outputs": [],
   "source": [
    "fig, axs = plt.subplots(1, 3, figsize=(20,20))\n",
    "\n",
    "for i in range(3):\n",
    "    axs[i].imshow(masks[i][:50])\n",
    "    axs[i].set_title(f\"mask {i}\")"
   ]
  },
  {
   "cell_type": "code",
   "execution_count": null,
   "metadata": {},
   "outputs": [],
   "source": [
    "# iter_test = env.iter_test()\n",
    "# for (test_df, sample_prediction_df) in iter_test:\n",
    "#     test_df = test_df.sort_values(['user_id','timestamp'], ascending=False)\n",
    "#     test_df['answer_time'] = test_df.groupby(['user_id'])['prior_question_elapsed_time'].shift(1)\n",
    "    \n",
    "#     test_df = pd.merge(test_df, results_u, on=['user_id'],  how=\"left\")\n",
    "#     test_df = pd.merge(test_df, results_c, on=['content_id'],  how=\"left\")    \n",
    "#     test_df = pd.merge(test_df, questions_df, left_on = 'content_id', right_on = 'question_id', how = 'left')    \n",
    "#     test_df['answered_correctly_user'].fillna(0.5, inplace=True)\n",
    "#     test_df['answered_correctly_content'].fillna(0.5, inplace=True)\n",
    "#     test_df['sum'].fillna(0, inplace=True)\n",
    "#     test_df['prior_question_had_explanation'].fillna(False, inplace=True)\n",
    "#     test_df[\"prior_question_had_explanation_enc\"] = lb_make.fit_transform(test_df[\"prior_question_had_explanation\"])\n",
    "#     test_df['answered_correctly'] =  model.predict(test_df[['answered_correctly_user', 'answered_correctly_content', 'sum','bundle_id','part','prior_question_elapsed_time','prior_question_had_explanation_enc',\n",
    "#                                                            'tags1','tags2','tags3']])\n",
    "#     env.predict(test_df.loc[test_df['content_type_id'] == 0, ['row_id', 'answered_correctly']])"
   ]
  }
 ],
 "metadata": {
  "kernelspec": {
   "display_name": "Python 3",
   "language": "python",
   "name": "python3"
  },
  "language_info": {
   "codemirror_mode": {
    "name": "ipython",
    "version": 3
   },
   "file_extension": ".py",
   "mimetype": "text/x-python",
   "name": "python",
   "nbconvert_exporter": "python",
   "pygments_lexer": "ipython3",
   "version": "3.7.6"
  }
 },
 "nbformat": 4,
 "nbformat_minor": 4
}
