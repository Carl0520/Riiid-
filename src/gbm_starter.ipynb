{
 "cells": [
  {
   "cell_type": "code",
   "execution_count": 1,
   "metadata": {},
   "outputs": [],
   "source": [
    "import dask.dataframe as dd\n",
    "import  pandas as pd\n",
    "import numpy as np\n",
    "from sklearn.metrics import roc_auc_score\n",
    "import time\n",
    "import gc \n"
   ]
  },
  {
   "cell_type": "code",
   "execution_count": 2,
   "metadata": {},
   "outputs": [],
   "source": [
    "start_time = time.time()\n",
    "train= pd.read_csv('/home/carlchao/Riiid/data/train.csv',\n",
    "                usecols=[1, 2, 3,4,7,8,9], dtype={'timestamp': 'int64', 'user_id': 'int32' ,'content_id': 'int16','content_type_id': 'int8','answered_correctly':'int8','prior_question_elapsed_time': 'float32','prior_question_had_explanation': 'int8'})\n",
    "# train= pd.read_csv('/home/carlchao/Riiid/data/train.csv')\n",
    "print(\"pandas took %s seconds\" % (time.time() - start_time))\n",
    "# train = train[train.content_type_id == False]"
   ]
  },
  {
   "cell_type": "code",
   "execution_count": 3,
   "metadata": {},
   "outputs": [
    {
     "data": {
      "text/html": [
       "<style type='text/css'>\n",
       ".datatable table.frame { margin-bottom: 0; }\n",
       ".datatable table.frame thead { border-bottom: none; }\n",
       ".datatable table.frame tr.coltypes td {  color: #FFFFFF;  line-height: 6px;  padding: 0 0.5em;}\n",
       ".datatable .bool    { background: #DDDD99; }\n",
       ".datatable .object  { background: #565656; }\n",
       ".datatable .int     { background: #5D9E5D; }\n",
       ".datatable .float   { background: #4040CC; }\n",
       ".datatable .str     { background: #CC4040; }\n",
       ".datatable .row_index {  background: var(--jp-border-color3);  border-right: 1px solid var(--jp-border-color0);  color: var(--jp-ui-font-color3);  font-size: 9px;}\n",
       ".datatable .frame tr.coltypes .row_index {  background: var(--jp-border-color0);}\n",
       ".datatable th:nth-child(2) { padding-left: 12px; }\n",
       ".datatable .hellipsis {  color: var(--jp-cell-editor-border-color);}\n",
       ".datatable .vellipsis {  background: var(--jp-layout-color0);  color: var(--jp-cell-editor-border-color);}\n",
       ".datatable .na {  color: var(--jp-cell-editor-border-color);  font-size: 80%;}\n",
       ".datatable .footer { font-size: 9px; }\n",
       ".datatable .frame_dimensions {  background: var(--jp-border-color3);  border-top: 1px solid var(--jp-border-color0);  color: var(--jp-ui-font-color3);  display: inline-block;  opacity: 0.6;  padding: 1px 10px 1px 5px;}\n",
       "</style>\n"
      ],
      "text/plain": [
       "<IPython.core.display.HTML object>"
      ]
     },
     "metadata": {},
     "output_type": "display_data"
    },
    {
     "name": "stdout",
     "output_type": "stream",
     "text": [
      "datatable took 5.708926200866699 seconds\n"
     ]
    }
   ],
   "source": [
    "# !pip install datatable\n",
    "import datatable as dt\n",
    "start_time = time.time()\n",
    "train = dt.fread('/home/carlchao/Riiid_data/data/train.csv')\n",
    "train = train.to_pandas()\n",
    "print(\"datatable took %s seconds\" % (time.time() - start_time))\n",
    "\n"
   ]
  },
  {
   "cell_type": "code",
   "execution_count": 4,
   "metadata": {},
   "outputs": [],
   "source": [
    "train = train.sort_values(['timestamp'], ascending=True)\n",
    "\n",
    "train.drop(['timestamp','content_type_id'], axis=1,   inplace=True)\n",
    "\n",
    "results_c = train[['content_id','answered_correctly']].groupby(['content_id']).agg(['mean'])\n",
    "results_c.columns = [\"answered_correctly_content\"]\n",
    "\n",
    "results_u = train[['user_id','answered_correctly']].groupby(['user_id']).agg(['mean', 'sum'])\n",
    "results_u.columns = [\"answered_correctly_user\", 'sum']"
   ]
  },
  {
   "cell_type": "code",
   "execution_count": 5,
   "metadata": {},
   "outputs": [],
   "source": [
    "#reading in question df\n",
    "questions_df = pd.read_csv('/home/carlchao/Riiid_data/data/questions.csv',\n",
    "                            usecols=[0,1, 3,4],\n",
    "                            dtype={'question_id': 'int16',\n",
    "                              'part': 'int8','bundle_id': 'int8','tags': 'str'}\n",
    "                          )\n",
    "tag = questions_df[\"tags\"].str.split(\" \", n = 10, expand = True) \n",
    "tag.columns = ['tags1','tags2','tags3','tags4','tags5','tags6']\n",
    "\n",
    "questions_df =  pd.concat([questions_df,tag],axis=1)\n",
    "questions_df['tags1'] = pd.to_numeric(questions_df['tags1'], errors='coerce')\n",
    "questions_df['tags2'] = pd.to_numeric(questions_df['tags2'], errors='coerce')\n",
    "questions_df['tags3'] = pd.to_numeric(questions_df['tags3'], errors='coerce')\n",
    "questions_df['tags4'] = pd.to_numeric(questions_df['tags4'], errors='coerce')\n",
    "questions_df['tags5'] = pd.to_numeric(questions_df['tags5'], errors='coerce')\n",
    "questions_df['tags6'] = pd.to_numeric(questions_df['tags6'], errors='coerce')"
   ]
  },
  {
   "cell_type": "code",
   "execution_count": 6,
   "metadata": {},
   "outputs": [],
   "source": [
    "X = train.iloc[80000000:,:].copy()\n",
    "X['prior_question_had_explanation'].fillna(False, inplace=True)\n",
    "X = pd.merge(X, results_u, on=['user_id'], how=\"left\")\n",
    "X = pd.merge(X, results_c, on=['content_id'], how=\"left\")\n",
    "X = pd.merge(X, questions_df, left_on = 'content_id', right_on = 'question_id', how = 'left')\n",
    "\n",
    "X=X[X.answered_correctly!= -1 ]\n",
    "X=X.sort_values(['user_id'])\n",
    "Y = X[[\"answered_correctly\"]]\n",
    "X = X.drop([\"answered_correctly\"], axis=1)"
   ]
  },
  {
   "cell_type": "code",
   "execution_count": 7,
   "metadata": {},
   "outputs": [
    {
     "name": "stdout",
     "output_type": "stream",
     "text": [
      "Training until validation scores don't improve for 10 rounds\n",
      "[10]\ttraining's binary_logloss: 0.6\tvalid_1's binary_logloss: 0.599961\n",
      "[20]\ttraining's binary_logloss: 0.58142\tvalid_1's binary_logloss: 0.581288\n",
      "[30]\ttraining's binary_logloss: 0.568486\tvalid_1's binary_logloss: 0.568279\n",
      "[40]\ttraining's binary_logloss: 0.559346\tvalid_1's binary_logloss: 0.55907\n",
      "[50]\ttraining's binary_logloss: 0.552807\tvalid_1's binary_logloss: 0.552471\n",
      "[60]\ttraining's binary_logloss: 0.548089\tvalid_1's binary_logloss: 0.547697\n",
      "[70]\ttraining's binary_logloss: 0.544662\tvalid_1's binary_logloss: 0.544223\n",
      "[80]\ttraining's binary_logloss: 0.542152\tvalid_1's binary_logloss: 0.541681\n",
      "[90]\ttraining's binary_logloss: 0.54031\tvalid_1's binary_logloss: 0.53982\n",
      "[100]\ttraining's binary_logloss: 0.538935\tvalid_1's binary_logloss: 0.538429\n",
      "[110]\ttraining's binary_logloss: 0.53789\tvalid_1's binary_logloss: 0.537377\n",
      "[120]\ttraining's binary_logloss: 0.537094\tvalid_1's binary_logloss: 0.536574\n",
      "[130]\ttraining's binary_logloss: 0.53648\tvalid_1's binary_logloss: 0.53596\n",
      "[140]\ttraining's binary_logloss: 0.535991\tvalid_1's binary_logloss: 0.53547\n",
      "[150]\ttraining's binary_logloss: 0.535609\tvalid_1's binary_logloss: 0.535099\n",
      "[160]\ttraining's binary_logloss: 0.5353\tvalid_1's binary_logloss: 0.5348\n",
      "[170]\ttraining's binary_logloss: 0.535042\tvalid_1's binary_logloss: 0.534554\n",
      "[180]\ttraining's binary_logloss: 0.534826\tvalid_1's binary_logloss: 0.534354\n",
      "[190]\ttraining's binary_logloss: 0.534642\tvalid_1's binary_logloss: 0.534184\n",
      "[200]\ttraining's binary_logloss: 0.534472\tvalid_1's binary_logloss: 0.534032\n",
      "[210]\ttraining's binary_logloss: 0.534329\tvalid_1's binary_logloss: 0.533911\n",
      "[220]\ttraining's binary_logloss: 0.534196\tvalid_1's binary_logloss: 0.533799\n",
      "[230]\ttraining's binary_logloss: 0.534084\tvalid_1's binary_logloss: 0.533713\n",
      "[240]\ttraining's binary_logloss: 0.533985\tvalid_1's binary_logloss: 0.533637\n",
      "[250]\ttraining's binary_logloss: 0.533891\tvalid_1's binary_logloss: 0.533572\n",
      "[260]\ttraining's binary_logloss: 0.533803\tvalid_1's binary_logloss: 0.533514\n",
      "[270]\ttraining's binary_logloss: 0.533712\tvalid_1's binary_logloss: 0.53346\n",
      "[280]\ttraining's binary_logloss: 0.53363\tvalid_1's binary_logloss: 0.533414\n",
      "[290]\ttraining's binary_logloss: 0.533551\tvalid_1's binary_logloss: 0.533366\n",
      "[300]\ttraining's binary_logloss: 0.533473\tvalid_1's binary_logloss: 0.533322\n",
      "[310]\ttraining's binary_logloss: 0.533396\tvalid_1's binary_logloss: 0.533278\n",
      "[320]\ttraining's binary_logloss: 0.533321\tvalid_1's binary_logloss: 0.533241\n",
      "[330]\ttraining's binary_logloss: 0.533253\tvalid_1's binary_logloss: 0.533203\n",
      "[340]\ttraining's binary_logloss: 0.533191\tvalid_1's binary_logloss: 0.533173\n",
      "[350]\ttraining's binary_logloss: 0.53312\tvalid_1's binary_logloss: 0.533145\n",
      "[360]\ttraining's binary_logloss: 0.533057\tvalid_1's binary_logloss: 0.533111\n",
      "[370]\ttraining's binary_logloss: 0.533\tvalid_1's binary_logloss: 0.533088\n",
      "[380]\ttraining's binary_logloss: 0.532935\tvalid_1's binary_logloss: 0.533047\n",
      "[390]\ttraining's binary_logloss: 0.532883\tvalid_1's binary_logloss: 0.533028\n",
      "[400]\ttraining's binary_logloss: 0.532831\tvalid_1's binary_logloss: 0.533011\n",
      "[410]\ttraining's binary_logloss: 0.532782\tvalid_1's binary_logloss: 0.532984\n",
      "[420]\ttraining's binary_logloss: 0.532735\tvalid_1's binary_logloss: 0.532971\n",
      "[430]\ttraining's binary_logloss: 0.532692\tvalid_1's binary_logloss: 0.532951\n",
      "[440]\ttraining's binary_logloss: 0.532649\tvalid_1's binary_logloss: 0.532935\n",
      "[450]\ttraining's binary_logloss: 0.532603\tvalid_1's binary_logloss: 0.532916\n",
      "[460]\ttraining's binary_logloss: 0.532562\tvalid_1's binary_logloss: 0.5329\n",
      "[470]\ttraining's binary_logloss: 0.532528\tvalid_1's binary_logloss: 0.532889\n",
      "[480]\ttraining's binary_logloss: 0.532482\tvalid_1's binary_logloss: 0.532877\n",
      "[490]\ttraining's binary_logloss: 0.532436\tvalid_1's binary_logloss: 0.532858\n",
      "[500]\ttraining's binary_logloss: 0.532399\tvalid_1's binary_logloss: 0.532841\n",
      "[510]\ttraining's binary_logloss: 0.532357\tvalid_1's binary_logloss: 0.532827\n",
      "[520]\ttraining's binary_logloss: 0.53232\tvalid_1's binary_logloss: 0.53281\n",
      "[530]\ttraining's binary_logloss: 0.532282\tvalid_1's binary_logloss: 0.532797\n",
      "[540]\ttraining's binary_logloss: 0.532243\tvalid_1's binary_logloss: 0.532794\n",
      "[550]\ttraining's binary_logloss: 0.532203\tvalid_1's binary_logloss: 0.532785\n",
      "[560]\ttraining's binary_logloss: 0.532166\tvalid_1's binary_logloss: 0.532771\n",
      "[570]\ttraining's binary_logloss: 0.532137\tvalid_1's binary_logloss: 0.532762\n",
      "[580]\ttraining's binary_logloss: 0.532104\tvalid_1's binary_logloss: 0.53275\n",
      "[590]\ttraining's binary_logloss: 0.532073\tvalid_1's binary_logloss: 0.532739\n",
      "[600]\ttraining's binary_logloss: 0.532045\tvalid_1's binary_logloss: 0.532734\n",
      "[610]\ttraining's binary_logloss: 0.532012\tvalid_1's binary_logloss: 0.532725\n",
      "[620]\ttraining's binary_logloss: 0.53198\tvalid_1's binary_logloss: 0.532721\n",
      "[630]\ttraining's binary_logloss: 0.531959\tvalid_1's binary_logloss: 0.532715\n",
      "[640]\ttraining's binary_logloss: 0.531926\tvalid_1's binary_logloss: 0.532708\n",
      "[650]\ttraining's binary_logloss: 0.531901\tvalid_1's binary_logloss: 0.532699\n",
      "[660]\ttraining's binary_logloss: 0.531869\tvalid_1's binary_logloss: 0.53269\n",
      "[670]\ttraining's binary_logloss: 0.531839\tvalid_1's binary_logloss: 0.532682\n",
      "[680]\ttraining's binary_logloss: 0.531811\tvalid_1's binary_logloss: 0.532673\n",
      "[690]\ttraining's binary_logloss: 0.531784\tvalid_1's binary_logloss: 0.532668\n",
      "[700]\ttraining's binary_logloss: 0.531752\tvalid_1's binary_logloss: 0.532662\n",
      "[710]\ttraining's binary_logloss: 0.531727\tvalid_1's binary_logloss: 0.532657\n",
      "[720]\ttraining's binary_logloss: 0.531697\tvalid_1's binary_logloss: 0.53265\n",
      "[730]\ttraining's binary_logloss: 0.531673\tvalid_1's binary_logloss: 0.532642\n",
      "[740]\ttraining's binary_logloss: 0.531642\tvalid_1's binary_logloss: 0.532636\n",
      "[750]\ttraining's binary_logloss: 0.531609\tvalid_1's binary_logloss: 0.532627\n",
      "[760]\ttraining's binary_logloss: 0.531586\tvalid_1's binary_logloss: 0.53262\n",
      "[770]\ttraining's binary_logloss: 0.531566\tvalid_1's binary_logloss: 0.532618\n",
      "[780]\ttraining's binary_logloss: 0.531538\tvalid_1's binary_logloss: 0.532615\n",
      "[790]\ttraining's binary_logloss: 0.531514\tvalid_1's binary_logloss: 0.532609\n",
      "[800]\ttraining's binary_logloss: 0.531482\tvalid_1's binary_logloss: 0.532603\n",
      "[810]\ttraining's binary_logloss: 0.531457\tvalid_1's binary_logloss: 0.532599\n",
      "Early stopping, best iteration is:\n",
      "[806]\ttraining's binary_logloss: 0.531469\tvalid_1's binary_logloss: 0.532599\n"
     ]
    }
   ],
   "source": [
    "from sklearn.preprocessing import LabelEncoder\n",
    "lb_make = LabelEncoder()\n",
    "X[\"prior_question_had_explanation_enc\"] = lb_make.fit_transform(X[\"prior_question_had_explanation\"])\n",
    "X.head()\n",
    "\n",
    "X = X[['answered_correctly_user', 'answered_correctly_content', 'sum','bundle_id','part','prior_question_elapsed_time','prior_question_had_explanation_enc','tags1','tags2','tags3']] \n",
    "X.fillna(0.5,  inplace=True)\n",
    "from  sklearn.tree import DecisionTreeClassifier\n",
    "from  sklearn.model_selection import train_test_split\n",
    "Xt, Xv, Yt, Yv = train_test_split(X, Y, test_size =0.2, shuffle=False)\n",
    "\n",
    "import lightgbm as lgb\n",
    "\n",
    "params = {\n",
    "    'objective': 'binary',\n",
    "    'max_bin': 600,\n",
    "    'learning_rate': 0.02,\n",
    "    'num_leaves': 80\n",
    "}\n",
    "\n",
    "\n",
    "lgb_train = lgb.Dataset(Xt, Yt,categorical_feature = ['part','tags1','tags2','tags3'])\n",
    "lgb_eval = lgb.Dataset(Xv, Yv, reference=lgb_train,categorical_feature = ['part','tags1','tags2','tags3'])\n",
    "\n",
    "model = lgb.train(\n",
    "    params, lgb_train,\n",
    "    valid_sets=[lgb_train, lgb_eval],\n",
    "    verbose_eval=10,\n",
    "    num_boost_round=10000,\n",
    "    early_stopping_rounds=10,\n",
    "    categorical_feature = ['part','tags1','tags2','tags3']\n",
    ")"
   ]
  },
  {
   "cell_type": "code",
   "execution_count": 8,
   "metadata": {},
   "outputs": [
    {
     "data": {
      "text/plain": [
       "0.7554420285175782"
      ]
     },
     "execution_count": 8,
     "metadata": {},
     "output_type": "execute_result"
    }
   ],
   "source": [
    "y_pred = model.predict(Xv)\n",
    "y_true = np.array(Yv)\n",
    "roc_auc_score(y_true, y_pred)"
   ]
  },
  {
   "cell_type": "code",
   "execution_count": 9,
   "metadata": {},
   "outputs": [
    {
     "data": {
      "image/png": "[encoded data removed]",
      "text/plain": [
       "<Figure size 432x288 with 1 Axes>"
      ]
     },
     "metadata": {
      "needs_background": "light"
     },
     "output_type": "display_data"
    }
   ],
   "source": [
    "import matplotlib.pyplot as plt\n",
    "import seaborn as sns\n",
    "#displaying the most important features\n",
    "lgb.plot_importance(model)\n",
    "plt.show()"
   ]
  },
  {
   "cell_type": "code",
   "execution_count": 10,
   "metadata": {},
   "outputs": [],
   "source": [
    "# iter_test = env.iter_test()\n",
    "# for (test_df, sample_prediction_df) in iter_test:\n",
    "#     test_df = test_df.sort_values(['user_id','timestamp'], ascending=False)\n",
    "#     test_df['answer_time'] = test_df.groupby(['user_id'])['prior_question_elapsed_time'].shift(1)\n",
    "    \n",
    "#     test_df = pd.merge(test_df, results_u, on=['user_id'],  how=\"left\")\n",
    "#     test_df = pd.merge(test_df, results_c, on=['content_id'],  how=\"left\")    \n",
    "#     test_df = pd.merge(test_df, questions_df, left_on = 'content_id', right_on = 'question_id', how = 'left')    \n",
    "#     test_df['answered_correctly_user'].fillna(0.5, inplace=True)\n",
    "#     test_df['answered_correctly_content'].fillna(0.5, inplace=True)\n",
    "#     test_df['sum'].fillna(0, inplace=True)\n",
    "#     test_df['prior_question_had_explanation'].fillna(False, inplace=True)\n",
    "#     test_df[\"prior_question_had_explanation_enc\"] = lb_make.fit_transform(test_df[\"prior_question_had_explanation\"])\n",
    "#     test_df['answered_correctly'] =  model.predict(test_df[['answered_correctly_user', 'answered_correctly_content', 'sum','bundle_id','part','prior_question_elapsed_time','prior_question_had_explanation_enc',\n",
    "#                                                            'tags1','tags2','tags3']])\n",
    "#     env.predict(test_df.loc[test_df['content_type_id'] == 0, ['row_id', 'answered_correctly']])"
   ]
  }
 ],
 "metadata": {
  "kernelspec": {
   "display_name": "Python 3",
   "language": "python",
   "name": "python3"
  },
  "language_info": {
   "codemirror_mode": {
    "name": "ipython",
    "version": 3
   },
   "file_extension": ".py",
   "mimetype": "text/x-python",
   "name": "python",
   "nbconvert_exporter": "python",
   "pygments_lexer": "ipython3",
   "version": "3.7.6"
  }
 },
 "nbformat": 4,
 "nbformat_minor": 4
}
