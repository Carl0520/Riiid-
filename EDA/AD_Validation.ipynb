{
 "cells": [
  {
   "cell_type": "code",
   "execution_count": 1,
   "metadata": {},
   "outputs": [],
   "source": [
    "import dask.dataframe as dd\n",
    "import  pandas as pd\n",
    "import numpy as np\n",
    "from sklearn.metrics import roc_auc_score\n",
    "import time\n",
    "import gc \n"
   ]
  },
  {
   "cell_type": "code",
   "execution_count": 2,
   "metadata": {},
   "outputs": [
    {
     "data": {
      "text/html": [
       "<style type='text/css'>\n",
       ".datatable table.frame { margin-bottom: 0; }\n",
       ".datatable table.frame thead { border-bottom: none; }\n",
       ".datatable table.frame tr.coltypes td {  color: #FFFFFF;  line-height: 6px;  padding: 0 0.5em;}\n",
       ".datatable .bool    { background: #DDDD99; }\n",
       ".datatable .object  { background: #565656; }\n",
       ".datatable .int     { background: #5D9E5D; }\n",
       ".datatable .float   { background: #4040CC; }\n",
       ".datatable .str     { background: #CC4040; }\n",
       ".datatable .row_index {  background: var(--jp-border-color3);  border-right: 1px solid var(--jp-border-color0);  color: var(--jp-ui-font-color3);  font-size: 9px;}\n",
       ".datatable .frame tr.coltypes .row_index {  background: var(--jp-border-color0);}\n",
       ".datatable th:nth-child(2) { padding-left: 12px; }\n",
       ".datatable .hellipsis {  color: var(--jp-cell-editor-border-color);}\n",
       ".datatable .vellipsis {  background: var(--jp-layout-color0);  color: var(--jp-cell-editor-border-color);}\n",
       ".datatable .na {  color: var(--jp-cell-editor-border-color);  font-size: 80%;}\n",
       ".datatable .footer { font-size: 9px; }\n",
       ".datatable .frame_dimensions {  background: var(--jp-border-color3);  border-top: 1px solid var(--jp-border-color0);  color: var(--jp-ui-font-color3);  display: inline-block;  opacity: 0.6;  padding: 1px 10px 1px 5px;}\n",
       "</style>\n"
      ],
      "text/plain": [
       "<IPython.core.display.HTML object>"
      ]
     },
     "metadata": {},
     "output_type": "display_data"
    },
    {
     "name": "stdout",
     "output_type": "stream",
     "text": [
      "datatable took 7.857659101486206 seconds\n"
     ]
    }
   ],
   "source": [
    "import datatable as dt\n",
    "start_time = time.time()\n",
    "X = dt.fread('/home/carlchao/Riiid_data/data/train.csv')\n",
    "X = X.to_pandas()\n",
    "print(\"datatable took %s seconds\" % (time.time() - start_time))\n"
   ]
  },
  {
   "cell_type": "code",
   "execution_count": 3,
   "metadata": {},
   "outputs": [
    {
     "name": "stdout",
     "output_type": "stream",
     "text": [
      "datatable took 0.003080606460571289 seconds\n"
     ]
    }
   ],
   "source": [
    "start_time = time.time()\n",
    "test_df = dt.fread('/home/carlchao/Riiid_data/data/example_test.csv')\n",
    "test_df = test_df.to_pandas()\n",
    "print(\"datatable took %s seconds\" % (time.time() - start_time))\n",
    "\n"
   ]
  },
  {
   "cell_type": "code",
   "execution_count": 4,
   "metadata": {},
   "outputs": [],
   "source": [
    "questions_df = pd.read_csv('/home/carlchao/Riiid_data/data/questions.csv',\n",
    "                            usecols=[0,1, 3,4],\n",
    "                            dtype={'question_id': 'int16',\n",
    "                              'part': 'int8','bundle_id': 'int8','tags': 'str'}\n",
    "                          )\n",
    "tag = questions_df[\"tags\"].str.split(\" \", n = 10, expand = True) \n",
    "tag.columns = ['tags1','tags2','tags3','tags4','tags5','tags6']\n",
    "\n",
    "questions_df =  pd.concat([questions_df,tag],axis=1)\n",
    "questions_df['tags1'] = pd.to_numeric(questions_df['tags1'], errors='coerce')\n",
    "questions_df['tags2'] = pd.to_numeric(questions_df['tags2'], errors='coerce')\n",
    "questions_df['tags3'] = pd.to_numeric(questions_df['tags3'], errors='coerce')\n",
    "questions_df['tags4'] = pd.to_numeric(questions_df['tags4'], errors='coerce')\n",
    "questions_df['tags5'] = pd.to_numeric(questions_df['tags5'], errors='coerce')\n",
    "questions_df['tags6'] = pd.to_numeric(questions_df['tags6'], errors='coerce')"
   ]
  },
  {
   "cell_type": "code",
   "execution_count": 5,
   "metadata": {},
   "outputs": [],
   "source": [
    "X = X.sort_values(['timestamp'], ascending=True)\n",
    "X.drop(['timestamp','content_type_id'], axis=1,   inplace=True)"
   ]
  },
  {
   "cell_type": "code",
   "execution_count": 6,
   "metadata": {},
   "outputs": [],
   "source": [
    "X = X.iloc[:8000000].copy()\n",
    "X['prior_question_had_explanation'].fillna(False, inplace=True)\n",
    "# X = pd.merge(X, results_u, on=['user_id'], how=\"left\")\n",
    "# X = pd.merge(X, results_c, on=['content_id'], how=\"left\")\n",
    "X = pd.merge(X, questions_df, left_on = 'content_id', right_on = 'question_id', how = 'left')\n",
    "\n",
    "X=X[X.answered_correctly!= -1 ]\n",
    "X=X.sort_values(['user_id'])\n",
    "Y = X[[\"answered_correctly\"]]\n",
    "X = X.drop([\"answered_correctly\"], axis=1)"
   ]
  },
  {
   "cell_type": "code",
   "execution_count": 7,
   "metadata": {},
   "outputs": [],
   "source": [
    "from sklearn.preprocessing import LabelEncoder\n",
    "\n",
    "lb_make = LabelEncoder()\n",
    "X[\"prior_question_had_explanation_enc\"] = lb_make.fit_transform(X[\"prior_question_had_explanation\"])\n",
    "X = X[['bundle_id','part','prior_question_elapsed_time','prior_question_had_explanation_enc','tags1','tags2','tags3']] \n",
    "X.fillna(0.5,  inplace=True)"
   ]
  },
  {
   "cell_type": "code",
   "execution_count": 31,
   "metadata": {},
   "outputs": [],
   "source": [
    "test_df = test_df.sort_values(['user_id','timestamp'], ascending=False)\n",
    "test_df['answer_time'] = test_df.groupby(['user_id'])['prior_question_elapsed_time'].shift(1) \n",
    "test_df = pd.merge(test_df, questions_df, left_on = 'content_id', right_on = 'question_id', how = 'left')    \n",
    "test_df['prior_question_had_explanation'].fillna(False, inplace=True)\n",
    "test_df[\"prior_question_had_explanation_enc\"] = lb_make.fit_transform(test_df[\"prior_question_had_explanation\"])\n",
    "test_df = test_df[['bundle_id','part','prior_question_elapsed_time','prior_question_had_explanation_enc','tags1','tags2','tags3']]\n"
   ]
  },
  {
   "cell_type": "code",
   "execution_count": 28,
   "metadata": {},
   "outputs": [
    {
     "data": {
      "text/plain": [
       "row_id                                         92\n",
       "group_num                                       3\n",
       "timestamp                             23890386630\n",
       "user_id                                2103436554\n",
       "content_id                                   1722\n",
       "content_type_id                             False\n",
       "task_container_id                            1033\n",
       "prior_question_elapsed_time                 23333\n",
       "prior_question_had_explanation               True\n",
       "prior_group_answers_correct                      \n",
       "prior_group_responses                            \n",
       "answer_time                                   NaN\n",
       "question_id                                  1722\n",
       "bundle_id                                     -71\n",
       "part                                            3\n",
       "tags                                    113 38 29\n",
       "tags1                                         113\n",
       "tags2                                          38\n",
       "tags3                                          29\n",
       "tags4                                         NaN\n",
       "tags5                                         NaN\n",
       "tags6                                         NaN\n",
       "prior_question_had_explanation_enc              1\n",
       "Name: 0, dtype: object"
      ]
     },
     "execution_count": 28,
     "metadata": {},
     "output_type": "execute_result"
    }
   ],
   "source": [
    "test_df.iloc[0]"
   ]
  },
  {
   "cell_type": "code",
   "execution_count": null,
   "metadata": {},
   "outputs": [],
   "source": []
  }
 ],
 "metadata": {
  "kernelspec": {
   "display_name": "Python 3",
   "language": "python",
   "name": "python3"
  },
  "language_info": {
   "codemirror_mode": {
    "name": "ipython",
    "version": 3
   },
   "file_extension": ".py",
   "mimetype": "text/x-python",
   "name": "python",
   "nbconvert_exporter": "python",
   "pygments_lexer": "ipython3",
   "version": "3.7.6"
  }
 },
 "nbformat": 4,
 "nbformat_minor": 4
}
