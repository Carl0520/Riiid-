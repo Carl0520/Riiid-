{
 "cells": [
  {
   "cell_type": "code",
   "execution_count": 1,
   "metadata": {},
   "outputs": [
    {
     "data": {
      "text/html": [
       "<style type='text/css'>\n",
       ".datatable table.frame { margin-bottom: 0; }\n",
       ".datatable table.frame thead { border-bottom: none; }\n",
       ".datatable table.frame tr.coltypes td {  color: #FFFFFF;  line-height: 6px;  padding: 0 0.5em;}\n",
       ".datatable .bool    { background: #DDDD99; }\n",
       ".datatable .object  { background: #565656; }\n",
       ".datatable .int     { background: #5D9E5D; }\n",
       ".datatable .float   { background: #4040CC; }\n",
       ".datatable .str     { background: #CC4040; }\n",
       ".datatable .row_index {  background: var(--jp-border-color3);  border-right: 1px solid var(--jp-border-color0);  color: var(--jp-ui-font-color3);  font-size: 9px;}\n",
       ".datatable .frame tr.coltypes .row_index {  background: var(--jp-border-color0);}\n",
       ".datatable th:nth-child(2) { padding-left: 12px; }\n",
       ".datatable .hellipsis {  color: var(--jp-cell-editor-border-color);}\n",
       ".datatable .vellipsis {  background: var(--jp-layout-color0);  color: var(--jp-cell-editor-border-color);}\n",
       ".datatable .na {  color: var(--jp-cell-editor-border-color);  font-size: 80%;}\n",
       ".datatable .footer { font-size: 9px; }\n",
       ".datatable .frame_dimensions {  background: var(--jp-border-color3);  border-top: 1px solid var(--jp-border-color0);  color: var(--jp-ui-font-color3);  display: inline-block;  opacity: 0.6;  padding: 1px 10px 1px 5px;}\n",
       "</style>\n"
      ],
      "text/plain": [
       "<IPython.core.display.HTML object>"
      ]
     },
     "metadata": {},
     "output_type": "display_data"
    }
   ],
   "source": [
    "import pandas as pd\n",
    "import numpy as np\n",
    "import gc\n",
    "from sklearn.metrics import roc_auc_score\n",
    "from collections import defaultdict\n",
    "from tqdm.notebook import tqdm\n",
    "import lightgbm as lgb\n",
    "from datatable import dt, fread\n",
    "from utils.feature_eng import *"
   ]
  },
  {
   "cell_type": "code",
   "execution_count": 2,
   "metadata": {},
   "outputs": [],
   "source": [
    "train_path = '/home/carlchao/Riiid-/CV/small_csv_file/cv1_train.csv'\n",
    "valid_path = '/home/carlchao/Riiid-/CV/small_csv_file/cv1_valid.csv'\n",
    "question_file = '/home/carlchao/Riiid_data/data/questions.csv'"
   ]
  },
  {
   "cell_type": "code",
   "execution_count": 3,
   "metadata": {},
   "outputs": [
    {
     "name": "stdout",
     "output_type": "stream",
     "text": [
      "CPU times: user 3.97 s, sys: 334 ms, total: 4.3 s\n",
      "Wall time: 591 ms\n"
     ]
    }
   ],
   "source": [
    "%%time\n",
    "# drop task_container_id, user_answer\n",
    "feld_needed = ['row_id', 'timestamp','user_id', 'content_id', 'content_type_id', 'answered_correctly', 'prior_question_elapsed_time', 'prior_question_had_explanation']\n",
    "train = fread(train_path).to_pandas()[feld_needed]\n",
    "valid = fread(valid_path).to_pandas()[feld_needed]"
   ]
  },
  {
   "cell_type": "code",
   "execution_count": 4,
   "metadata": {},
   "outputs": [
    {
     "data": {
      "text/html": [
       "<div>\n",
       "<style scoped>\n",
       "    .dataframe tbody tr th:only-of-type {\n",
       "        vertical-align: middle;\n",
       "    }\n",
       "\n",
       "    .dataframe tbody tr th {\n",
       "        vertical-align: top;\n",
       "    }\n",
       "\n",
       "    .dataframe thead th {\n",
       "        text-align: right;\n",
       "    }\n",
       "</style>\n",
       "<table border=\"1\" class=\"dataframe\">\n",
       "  <thead>\n",
       "    <tr style=\"text-align: right;\">\n",
       "      <th></th>\n",
       "      <th>row_id</th>\n",
       "      <th>timestamp</th>\n",
       "      <th>user_id</th>\n",
       "      <th>content_id</th>\n",
       "      <th>content_type_id</th>\n",
       "      <th>answered_correctly</th>\n",
       "      <th>prior_question_elapsed_time</th>\n",
       "      <th>prior_question_had_explanation</th>\n",
       "    </tr>\n",
       "  </thead>\n",
       "  <tbody>\n",
       "    <tr>\n",
       "      <td>0</td>\n",
       "      <td>32933156</td>\n",
       "      <td>0</td>\n",
       "      <td>705741139</td>\n",
       "      <td>128</td>\n",
       "      <td>False</td>\n",
       "      <td>1</td>\n",
       "      <td>NaN</td>\n",
       "      <td>True</td>\n",
       "    </tr>\n",
       "    <tr>\n",
       "      <td>1</td>\n",
       "      <td>32933157</td>\n",
       "      <td>20666</td>\n",
       "      <td>705741139</td>\n",
       "      <td>7860</td>\n",
       "      <td>False</td>\n",
       "      <td>1</td>\n",
       "      <td>16000.0</td>\n",
       "      <td>False</td>\n",
       "    </tr>\n",
       "    <tr>\n",
       "      <td>2</td>\n",
       "      <td>32933158</td>\n",
       "      <td>39172</td>\n",
       "      <td>705741139</td>\n",
       "      <td>7922</td>\n",
       "      <td>False</td>\n",
       "      <td>1</td>\n",
       "      <td>19000.0</td>\n",
       "      <td>False</td>\n",
       "    </tr>\n",
       "    <tr>\n",
       "      <td>3</td>\n",
       "      <td>32933159</td>\n",
       "      <td>58207</td>\n",
       "      <td>705741139</td>\n",
       "      <td>156</td>\n",
       "      <td>False</td>\n",
       "      <td>1</td>\n",
       "      <td>17000.0</td>\n",
       "      <td>False</td>\n",
       "    </tr>\n",
       "    <tr>\n",
       "      <td>4</td>\n",
       "      <td>32933160</td>\n",
       "      <td>75779</td>\n",
       "      <td>705741139</td>\n",
       "      <td>51</td>\n",
       "      <td>False</td>\n",
       "      <td>1</td>\n",
       "      <td>17000.0</td>\n",
       "      <td>False</td>\n",
       "    </tr>\n",
       "  </tbody>\n",
       "</table>\n",
       "</div>"
      ],
      "text/plain": [
       "     row_id  timestamp    user_id  content_id  content_type_id  \\\n",
       "0  32933156          0  705741139         128            False   \n",
       "1  32933157      20666  705741139        7860            False   \n",
       "2  32933158      39172  705741139        7922            False   \n",
       "3  32933159      58207  705741139         156            False   \n",
       "4  32933160      75779  705741139          51            False   \n",
       "\n",
       "   answered_correctly  prior_question_elapsed_time  \\\n",
       "0                   1                          NaN   \n",
       "1                   1                      16000.0   \n",
       "2                   1                      19000.0   \n",
       "3                   1                      17000.0   \n",
       "4                   1                      17000.0   \n",
       "\n",
       "   prior_question_had_explanation  \n",
       "0                            True  \n",
       "1                           False  \n",
       "2                           False  \n",
       "3                           False  \n",
       "4                           False  "
      ]
     },
     "execution_count": 4,
     "metadata": {},
     "output_type": "execute_result"
    }
   ],
   "source": [
    "train.head()"
   ]
  },
  {
   "cell_type": "code",
   "execution_count": 5,
   "metadata": {},
   "outputs": [],
   "source": [
    "# fill with mean value for prior_question_elapsed_time\n",
    "# note that `train.prior_question_elapsed_time.mean()` dose not work!\n",
    "# please refer https://www.kaggle.com/its7171/can-we-trust-pandas-mean for detail.\n",
    "# prior_question_elapsed_time_mean = train.prior_question_elapsed_time.dropna().values.mean()\n",
    "# train['prior_question_elapsed_time_mean'] = train.prior_question_elapsed_time.fillna(prior_question_elapsed_time_mean)\n",
    "# valid['prior_question_elapsed_time_mean'] = valid.prior_question_elapsed_time.fillna(prior_question_elapsed_time_mean)\n",
    "\n",
    "# use only last 30M training data for limited memory on kaggle env.\n",
    "#train = train[-30000000:]\n",
    "\n",
    "# part\n",
    "questions_df = pd.read_csv(question_file)\n",
    "en = Tags_encoder(5)\n",
    "questions_df = pd.concat([questions_df, en.fit_transform(questions_df['tags'].fillna(' '))], 1)\n",
    "\n",
    "train = pd.merge(train, questions_df[['question_id', 'part','PCA_0','PCA_3','PCA_4']], left_on = 'content_id', right_on = 'question_id', how = 'left')\n",
    "valid = pd.merge(valid, questions_df[['question_id', 'part','PCA_0','PCA_3','PCA_4']], left_on = 'content_id', right_on = 'question_id', how = 'left')\n",
    "\n",
    "\n",
    "train = train.loc[train.content_type_id == False].reset_index(drop=True)\n",
    "valid = valid.loc[valid.content_type_id == False].reset_index(drop=True)\n",
    "\n",
    "# answered correctly average for each content\n",
    "content_df = train[['content_id','answered_correctly']].groupby(['content_id']).agg(['mean']).reset_index()\n",
    "content_df.columns = ['content_id', 'answered_correctly_avg_c']\n",
    "train = pd.merge(train, content_df, on=['content_id'], how=\"left\")\n",
    "valid = pd.merge(valid, content_df, on=['content_id'], how=\"left\")"
   ]
  },
  {
   "cell_type": "code",
   "execution_count": 6,
   "metadata": {},
   "outputs": [],
   "source": [
    "\n",
    "\n",
    "def add_user_feats(df, answered_correctly_sum_u_dict, count_u_dict, content_dict, part_dict_sum, part_dict_count):\n",
    "    \n",
    "    acsu = np.zeros(len(df), dtype=np.int32)\n",
    "    cu = np.zeros(len(df), dtype=np.int32)\n",
    "    bool = np.zeros(len(df), dtype=np.int8)\n",
    "    part_auc = np.zeros(len(df), dtype=np.int32)\n",
    "    part_c = np.zeros(len(df), dtype=np.int32)\n",
    "    \n",
    "    for cnt,row in enumerate(tqdm(df[['user_id','answered_correctly','content_id','part']].values)):\n",
    "\n",
    "        acsu[cnt] = answered_correctly_sum_u_dict[row[0]]\n",
    "        cu[cnt] = count_u_dict[row[0]]\n",
    "        part_auc[cnt] = part_dict_sum[int(row[3])-1][row[0]]\n",
    "        part_c[cnt] = part_dict_count[int(row[3])-1][row[0]]\n",
    "\n",
    "        answered_correctly_sum_u_dict[row[0]] += row[1]\n",
    "        count_u_dict[row[0]] += 1\n",
    "\n",
    "        part_dict_sum[int(row[3])-1][row[0]] += row[1]\n",
    "        part_dict_count[int(row[3])-1][row[0]] += 1\n",
    "\n",
    "        if row[2] not in content_dict[row[0]]:\n",
    "#             bool[cnt] = content_dict[row[0]].count(row[2])\n",
    "            content_dict[row[0]].append(row[2])\n",
    "            bool[cnt] = 1\n",
    "        else:\n",
    "            bool[cnt] = 0\n",
    "\n",
    "    user_feats_df = pd.DataFrame({'answered_correctly_sum_u':acsu, 'count_u':cu, 'first_time': bool,'part_sum_u':part_auc,'part_count_u':part_c})\n",
    "    user_feats_df['answered_correctly_avg_u'] = user_feats_df['answered_correctly_sum_u'] / user_feats_df['count_u']\n",
    "    user_feats_df['part_avg_u'] = user_feats_df['part_sum_u'] / user_feats_df['part_count_u']\n",
    "    df = pd.concat([df, user_feats_df], axis=1)\n",
    "    \n",
    "    return df\n",
    "\n",
    "def add_user_feats_without_update(df, answered_correctly_sum_u_dict, count_u_dict, content_dict, part_dict_sum, part_dict_count):\n",
    "    acsu = np.zeros(len(df), dtype=np.int32)\n",
    "    cu = np.zeros(len(df), dtype=np.int32)\n",
    "    bool = np.zeros(len(df), dtype=np.int8)\n",
    "    part_auc = np.zeros(len(df), dtype=np.int32)\n",
    "    part_c = np.zeros(len(df), dtype=np.int32)\n",
    "    \n",
    "    for cnt,row in enumerate(df[['user_id','content_id','part']].values):\n",
    "        acsu[cnt] = answered_correctly_sum_u_dict[row[0]]\n",
    "        cu[cnt] = count_u_dict[row[0]]\n",
    "        part_auc[cnt] = part_dict_sum[int(row[3])-1][row[0]]\n",
    "        part_c[cnt] = part_dict_count[int(row[3])-1][row[0]]\n",
    "        \n",
    "        \n",
    "        if row[1] not in content_dict[row[0]]:\n",
    "#             bool[cnt] = content_dict[row[0]].count(row[1])\n",
    "            bool[cnt] = 1\n",
    "        else:\n",
    "            bool[cnt] = 0\n",
    "            \n",
    "    user_feats_df = pd.DataFrame({'answered_correctly_sum_u':acsu, 'count_u':cu, 'first_time': bool,'part_sum_u':part_auc,'part_count_u':part_c})\n",
    "    user_feats_df['answered_correctly_avg_u'] = user_feats_df['answered_correctly_sum_u'] / user_feats_df['count_u']\n",
    "    user_feats_df['part_avg_u'] = user_feats_df['part_sum_u'] / user_feats_df['part_count_u']\n",
    "    df = pd.concat([df, user_feats_df], axis=1)\n",
    "    \n",
    "    return df\n",
    "\n",
    "def update_user_feats(df, answered_correctly_sum_u_dict, count_u_dict, content_dict):\n",
    "    for row in df[['user_id','answered_correctly','content_type_id','part']].values:\n",
    "        if row[2] == 0:\n",
    "            answered_correctly_sum_u_dict[row[0]] += row[1]\n",
    "            count_u_dict[row[0]] += 1\n",
    "            content_dict[row[0]].append(row[2])\n",
    "            part_dict_sum[int(row[3])-1][row[0]] += row[1]\n",
    "            part_dict_count[int(row[3])-1][row[0]] += 1"
   ]
  },
  {
   "cell_type": "code",
   "execution_count": 7,
   "metadata": {},
   "outputs": [
    {
     "data": {
      "text/plain": [
       "[1, 1, 2]"
      ]
     },
     "execution_count": 7,
     "metadata": {},
     "output_type": "execute_result"
    }
   ],
   "source": [
    "[1,1,2]"
   ]
  },
  {
   "cell_type": "code",
   "execution_count": 8,
   "metadata": {},
   "outputs": [],
   "source": [
    "part_dict_sum = [ defaultdict(int) for i in range(7)]\n",
    "part_dict_count = [ defaultdict(int) for i in range(7)]\n",
    "answered_correctly_sum_u_dict = defaultdict(int)\n",
    "count_u_dict = defaultdict(int)\n",
    "content_dict = defaultdict(list)\n",
    "times_dict = defaultdict(int)"
   ]
  },
  {
   "cell_type": "code",
   "execution_count": 9,
   "metadata": {},
   "outputs": [
    {
     "data": {
      "application/vnd.jupyter.widget-view+json": {
       "model_id": "daa74d783a374a97bcccddf88486a58e",
       "version_major": 2,
       "version_minor": 0
      },
      "text/plain": [
       "HBox(children=(FloatProgress(value=0.0, max=9569193.0), HTML(value='')))"
      ]
     },
     "metadata": {},
     "output_type": "display_data"
    },
    {
     "name": "stdout",
     "output_type": "stream",
     "text": [
      "\n"
     ]
    },
    {
     "data": {
      "application/vnd.jupyter.widget-view+json": {
       "model_id": "90182580908c4e718454f71f65bcd0bf",
       "version_major": 2,
       "version_minor": 0
      },
      "text/plain": [
       "HBox(children=(FloatProgress(value=0.0, max=245437.0), HTML(value='')))"
      ]
     },
     "metadata": {},
     "output_type": "display_data"
    },
    {
     "name": "stdout",
     "output_type": "stream",
     "text": [
      "\n"
     ]
    }
   ],
   "source": [
    "# user stats features with loops\n",
    "train = add_user_feats(train, answered_correctly_sum_u_dict, count_u_dict, content_dict, part_dict_sum, part_dict_count)\n",
    "train.to_pickle('preprocess_fea_v2/adjust_small_train.pickle')\n",
    "valid = add_user_feats(valid, answered_correctly_sum_u_dict, count_u_dict, content_dict, part_dict_sum, part_dict_count )\n",
    "valid.to_pickle('preprocess_fea_v2/adjust_small_valid.pickle')"
   ]
  },
  {
   "cell_type": "code",
   "execution_count": 10,
   "metadata": {},
   "outputs": [],
   "source": [
    "import pickle\n",
    "\n",
    "with open(\"preprocess_fea_v2/adjust_answered_correctly_sum_u_dict.pickle\", \"wb\") as filename:  \n",
    "    pickle.dump(answered_correctly_sum_u_dict, filename)\n",
    "    filename.close()\n",
    "\n",
    "with open(\"preprocess_fea_v2/adjust_count_u_dict.pickle\", \"wb\") as filename:  \n",
    "    pickle.dump(count_u_dict, filename)\n",
    "    filename.close()\n",
    "\n",
    "with open(\"preprocess_fea_v2/adjust_content_dict.pickle\", \"wb\") as filename:  \n",
    "    pickle.dump(content_dict, filename)\n",
    "    filename.close()\n",
    "    \n",
    "with open(\"preprocess_fea_v2/adjust_part_dict_sum.pickle\", \"wb\") as filename:  \n",
    "    pickle.dump(part_dict_sum, filename)\n",
    "    filename.close()\n",
    "    \n",
    "with open(\"preprocess_fea_v2/adjust_part_dict_count.pickle\", \"wb\") as filename:  \n",
    "    pickle.dump(part_dict_count, filename)\n",
    "    filename.close()"
   ]
  },
  {
   "cell_type": "code",
   "execution_count": 11,
   "metadata": {},
   "outputs": [],
   "source": [
    "#drop useless col\n",
    "train.drop(['timestamp','user_id','content_id','content_type_id','question_id'], axis=1, inplace=True)\n",
    "valid.drop(['timestamp','user_id','content_id','content_type_id','question_id'], axis=1, inplace=True)\n",
    "\n",
    "# changing dtype to avoid lightgbm error\n",
    "train['prior_question_had_explanation'] = train.prior_question_had_explanation.fillna(False).astype('int8')\n",
    "valid['prior_question_had_explanation'] = valid.prior_question_had_explanation.fillna(False).astype('int8')"
   ]
  },
  {
   "cell_type": "code",
   "execution_count": 12,
   "metadata": {},
   "outputs": [],
   "source": [
    "TARGET = 'answered_correctly'\n",
    "FEATS = ['answered_correctly_avg_u', 'answered_correctly_sum_u', 'count_u', 'answered_correctly_avg_c', 'part', 'prior_question_had_explanation', 'prior_question_elapsed_time','first_time']\n",
    "FEATS = FEATS + ['PCA_0','PCA_3','PCA_4','part_avg_u', 'part_sum_u', 'part_count_u']\n",
    "dro_cols = list(set(train.columns) - set(FEATS))\n",
    "y_tr = train[TARGET]\n",
    "y_va = valid[TARGET]\n",
    "train.drop(dro_cols, axis=1, inplace=True)\n",
    "valid.drop(dro_cols, axis=1, inplace=True)\n",
    "_=gc.collect()"
   ]
  },
  {
   "cell_type": "code",
   "execution_count": 13,
   "metadata": {},
   "outputs": [],
   "source": [
    "lgb_train = lgb.Dataset(train[FEATS], y_tr, categorical_feature=['part', 'prior_question_had_explanation'])\n",
    "lgb_valid = lgb.Dataset(valid[FEATS], y_va, categorical_feature=['part', 'prior_question_had_explanation'])\n",
    "del train, y_tr\n",
    "_=gc.collect()"
   ]
  },
  {
   "cell_type": "code",
   "execution_count": 14,
   "metadata": {},
   "outputs": [
    {
     "name": "stdout",
     "output_type": "stream",
     "text": [
      "Training until validation scores don't improve for 400 rounds\n",
      "[100]\ttraining's binary_logloss: 0.543099\tvalid_1's binary_logloss: 0.543868\n",
      "[200]\ttraining's binary_logloss: 0.542221\tvalid_1's binary_logloss: 0.54294\n",
      "[300]\ttraining's binary_logloss: 0.541605\tvalid_1's binary_logloss: 0.542543\n",
      "[400]\ttraining's binary_logloss: 0.541102\tvalid_1's binary_logloss: 0.542215\n",
      "[500]\ttraining's binary_logloss: 0.540658\tvalid_1's binary_logloss: 0.542006\n",
      "[600]\ttraining's binary_logloss: 0.54028\tvalid_1's binary_logloss: 0.541872\n",
      "[700]\ttraining's binary_logloss: 0.539942\tvalid_1's binary_logloss: 0.541774\n",
      "[800]\ttraining's binary_logloss: 0.539618\tvalid_1's binary_logloss: 0.541698\n",
      "[900]\ttraining's binary_logloss: 0.539278\tvalid_1's binary_logloss: 0.541576\n",
      "[1000]\ttraining's binary_logloss: 0.538967\tvalid_1's binary_logloss: 0.541509\n",
      "[1100]\ttraining's binary_logloss: 0.538692\tvalid_1's binary_logloss: 0.541429\n",
      "[1200]\ttraining's binary_logloss: 0.538427\tvalid_1's binary_logloss: 0.541384\n",
      "[1300]\ttraining's binary_logloss: 0.53819\tvalid_1's binary_logloss: 0.541355\n",
      "[1400]\ttraining's binary_logloss: 0.537937\tvalid_1's binary_logloss: 0.54133\n",
      "[1500]\ttraining's binary_logloss: 0.537694\tvalid_1's binary_logloss: 0.541319\n",
      "[1600]\ttraining's binary_logloss: 0.537459\tvalid_1's binary_logloss: 0.541286\n",
      "[1700]\ttraining's binary_logloss: 0.537217\tvalid_1's binary_logloss: 0.541244\n",
      "[1800]\ttraining's binary_logloss: 0.536996\tvalid_1's binary_logloss: 0.541218\n",
      "[1900]\ttraining's binary_logloss: 0.536764\tvalid_1's binary_logloss: 0.541205\n",
      "[2000]\ttraining's binary_logloss: 0.536543\tvalid_1's binary_logloss: 0.541207\n",
      "[2100]\ttraining's binary_logloss: 0.536331\tvalid_1's binary_logloss: 0.541186\n",
      "[2200]\ttraining's binary_logloss: 0.536114\tvalid_1's binary_logloss: 0.541185\n",
      "[2300]\ttraining's binary_logloss: 0.535883\tvalid_1's binary_logloss: 0.541168\n",
      "[2400]\ttraining's binary_logloss: 0.535668\tvalid_1's binary_logloss: 0.541169\n",
      "[2500]\ttraining's binary_logloss: 0.535453\tvalid_1's binary_logloss: 0.541165\n",
      "[2600]\ttraining's binary_logloss: 0.535233\tvalid_1's binary_logloss: 0.541157\n",
      "[2700]\ttraining's binary_logloss: 0.535024\tvalid_1's binary_logloss: 0.541153\n",
      "[2800]\ttraining's binary_logloss: 0.534804\tvalid_1's binary_logloss: 0.541131\n",
      "[2900]\ttraining's binary_logloss: 0.534588\tvalid_1's binary_logloss: 0.541136\n",
      "[3000]\ttraining's binary_logloss: 0.534376\tvalid_1's binary_logloss: 0.541137\n",
      "[3100]\ttraining's binary_logloss: 0.534171\tvalid_1's binary_logloss: 0.541145\n",
      "[3200]\ttraining's binary_logloss: 0.533974\tvalid_1's binary_logloss: 0.54116\n",
      "Early stopping, best iteration is:\n",
      "[2871]\ttraining's binary_logloss: 0.534647\tvalid_1's binary_logloss: 0.541126\n",
      "auc: 0.7633847249596727\n"
     ]
    },
    {
     "data": {
      "image/png": "[encoded data removed]",
      "text/plain": [
       "<Figure size 432x288 with 1 Axes>"
      ]
     },
     "metadata": {
      "needs_background": "light"
     },
     "output_type": "display_data"
    }
   ],
   "source": [
    "model = lgb.train(\n",
    "                    {'objective': 'binary'}, \n",
    "                    lgb_train,\n",
    "                    valid_sets=[lgb_train, lgb_valid],\n",
    "                    verbose_eval=100,\n",
    "                    num_boost_round=10000,\n",
    "                    early_stopping_rounds= 400,\n",
    "                    categorical_feature=['part', 'prior_question_had_explanation']\n",
    "    \n",
    "                )\n",
    "print('auc:', roc_auc_score(y_va, model.predict(valid[FEATS])))\n",
    "_ = lgb.plot_importance(model)"
   ]
  },
  {
   "cell_type": "code",
   "execution_count": 15,
   "metadata": {},
   "outputs": [],
   "source": [
    "# tags useful \n",
    "# user for each part auc substract all user each part auc\n",
    "# to do join lectures tags ==> question tags, lecture tags encode\n",
    "# content_id useful\n",
    "\n",
    "# ['part_1_boolean',\n",
    "#  'part_2_boolean',\n",
    "#  'part_3_boolean',\n",
    "#  'part_4_boolean',\n",
    "#  'part_5_boolean',\n",
    "#  'part_6_boolean',\n",
    "#  'part_7_boolean',\n",
    "#  'type_of_concept_boolean',\n",
    "#  'type_of_intention_boolean',\n",
    "#  'type_of_solving_question_boolean',\n",
    "#  'type_of_starter_boolean']\n",
    "\n",
    "# optuna\n"
   ]
  },
  {
   "cell_type": "code",
   "execution_count": 16,
   "metadata": {},
   "outputs": [],
   "source": [
    "#baseline: 75.84\n",
    "\n",
    "## add tags6: \n",
    "\n",
    "##pca\n",
    "# pca[0,1,2,3,4] : 76.01\n",
    "# pca[0,1,2]: 75.99\n",
    "# pca[0,3,4]: 76.00\n",
    "# pca[0,3,4,5,6]: 76.00\n",
    "## pca[0,3,4] + part feature: 76.33\n",
    "\n",
    "## first time adjust + pca[0,3,4] + part feature: 75.53\n"
   ]
  }
 ],
 "metadata": {
  "kernelspec": {
   "display_name": "Python 3",
   "language": "python",
   "name": "python3"
  },
  "language_info": {
   "codemirror_mode": {
    "name": "ipython",
    "version": 3
   },
   "file_extension": ".py",
   "mimetype": "text/x-python",
   "name": "python",
   "nbconvert_exporter": "python",
   "pygments_lexer": "ipython3",
   "version": "3.7.6"
  }
 },
 "nbformat": 4,
 "nbformat_minor": 4
}
