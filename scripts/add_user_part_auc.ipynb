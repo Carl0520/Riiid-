{
 "cells": [
  {
   "cell_type": "code",
   "execution_count": 1,
   "metadata": {},
   "outputs": [
    {
     "data": {
      "text/html": [
       "<style type='text/css'>\n",
       ".datatable table.frame { margin-bottom: 0; }\n",
       ".datatable table.frame thead { border-bottom: none; }\n",
       ".datatable table.frame tr.coltypes td {  color: #FFFFFF;  line-height: 6px;  padding: 0 0.5em;}\n",
       ".datatable .bool    { background: #DDDD99; }\n",
       ".datatable .object  { background: #565656; }\n",
       ".datatable .int     { background: #5D9E5D; }\n",
       ".datatable .float   { background: #4040CC; }\n",
       ".datatable .str     { background: #CC4040; }\n",
       ".datatable .row_index {  background: var(--jp-border-color3);  border-right: 1px solid var(--jp-border-color0);  color: var(--jp-ui-font-color3);  font-size: 9px;}\n",
       ".datatable .frame tr.coltypes .row_index {  background: var(--jp-border-color0);}\n",
       ".datatable th:nth-child(2) { padding-left: 12px; }\n",
       ".datatable .hellipsis {  color: var(--jp-cell-editor-border-color);}\n",
       ".datatable .vellipsis {  background: var(--jp-layout-color0);  color: var(--jp-cell-editor-border-color);}\n",
       ".datatable .na {  color: var(--jp-cell-editor-border-color);  font-size: 80%;}\n",
       ".datatable .footer { font-size: 9px; }\n",
       ".datatable .frame_dimensions {  background: var(--jp-border-color3);  border-top: 1px solid var(--jp-border-color0);  color: var(--jp-ui-font-color3);  display: inline-block;  opacity: 0.6;  padding: 1px 10px 1px 5px;}\n",
       "</style>\n"
      ],
      "text/plain": [
       "<IPython.core.display.HTML object>"
      ]
     },
     "metadata": {},
     "output_type": "display_data"
    }
   ],
   "source": [
    "import pandas as pd\n",
    "import numpy as np\n",
    "import gc\n",
    "from sklearn.metrics import roc_auc_score\n",
    "from collections import defaultdict\n",
    "from tqdm.notebook import tqdm\n",
    "import lightgbm as lgb\n",
    "from datatable import dt, fread\n",
    "from utils.feature_eng import *"
   ]
  },
  {
   "cell_type": "code",
   "execution_count": 2,
   "metadata": {},
   "outputs": [],
   "source": [
    "train_path = '/home/carlchao/Riiid-/CV/small_csv_file/cv1_train.csv'\n",
    "valid_path = '/home/carlchao/Riiid-/CV/small_csv_file/cv1_valid.csv'\n",
    "question_file = '/home/carlchao/Riiid_data/data/questions.csv'"
   ]
  },
  {
   "cell_type": "code",
   "execution_count": 3,
   "metadata": {},
   "outputs": [
    {
     "name": "stdout",
     "output_type": "stream",
     "text": [
      "CPU times: user 3.98 s, sys: 325 ms, total: 4.3 s\n",
      "Wall time: 599 ms\n"
     ]
    }
   ],
   "source": [
    "%%time\n",
    "# drop task_container_id, user_answer\n",
    "feld_needed = ['row_id', 'timestamp','user_id', 'content_id', 'content_type_id', 'answered_correctly', 'prior_question_elapsed_time', 'prior_question_had_explanation']\n",
    "train = fread(train_path).to_pandas()[feld_needed]\n",
    "valid = fread(valid_path).to_pandas()[feld_needed]"
   ]
  },
  {
   "cell_type": "code",
   "execution_count": 4,
   "metadata": {},
   "outputs": [],
   "source": [
    "# fill with mean value for prior_question_elapsed_time\n",
    "# note that `train.prior_question_elapsed_time.mean()` dose not work!\n",
    "# please refer https://www.kaggle.com/its7171/can-we-trust-pandas-mean for detail.\n",
    "# prior_question_elapsed_time_mean = train.prior_question_elapsed_time.dropna().values.mean()\n",
    "# train['prior_question_elapsed_time_mean'] = train.prior_question_elapsed_time.fillna(prior_question_elapsed_time_mean)\n",
    "# valid['prior_question_elapsed_time_mean'] = valid.prior_question_elapsed_time.fillna(prior_question_elapsed_time_mean)\n",
    "\n",
    "# use only last 30M training data for limited memory on kaggle env.\n",
    "#train = train[-30000000:]\n",
    "\n",
    "# part\n",
    "questions_df = pd.read_csv(question_file)\n",
    "en = Tags_encoder(5)\n",
    "questions_df = pd.concat([questions_df, en.fit_transform(questions_df['tags'].fillna(' '))], 1)\n",
    "\n",
    "train = pd.merge(train, questions_df[['question_id', 'part','PCA_0','PCA_3','PCA_4']], left_on = 'content_id', right_on = 'question_id', how = 'left')\n",
    "valid = pd.merge(valid, questions_df[['question_id', 'part','PCA_0','PCA_3','PCA_4']], left_on = 'content_id', right_on = 'question_id', how = 'left')\n",
    "\n",
    "\n",
    "train = train.loc[train.content_type_id == False].reset_index(drop=True)\n",
    "valid = valid.loc[valid.content_type_id == False].reset_index(drop=True)\n",
    "\n",
    "# answered correctly average for each content\n",
    "content_df = train[['content_id','answered_correctly']].groupby(['content_id']).agg(['mean']).reset_index()\n",
    "content_df.columns = ['content_id', 'answered_correctly_avg_c']\n",
    "train = pd.merge(train, content_df, on=['content_id'], how=\"left\")\n",
    "valid = pd.merge(valid, content_df, on=['content_id'], how=\"left\")"
   ]
  },
  {
   "cell_type": "code",
   "execution_count": 5,
   "metadata": {},
   "outputs": [],
   "source": [
    "\n",
    "\n",
    "def add_user_feats(df, answered_correctly_sum_u_dict, count_u_dict, content_dict, part_dict_sum, part_dict_count):\n",
    "    \n",
    "    acsu = np.zeros(len(df), dtype=np.int32)\n",
    "    cu = np.zeros(len(df), dtype=np.int32)\n",
    "    bool = np.zeros(len(df), dtype=np.int8)\n",
    "    part_auc = np.zeros(len(df), dtype=np.int32)\n",
    "    part_c = np.zeros(len(df), dtype=np.int32)\n",
    "    \n",
    "    \n",
    "    for cnt,row in enumerate(tqdm(df[['user_id','answered_correctly','content_id','part']].values)):\n",
    "\n",
    "        acsu[cnt] = answered_correctly_sum_u_dict[row[0]]\n",
    "        cu[cnt] = count_u_dict[row[0]]\n",
    "        part_auc[cnt] = part_dict_sum[int(row[3])-1][row[0]]\n",
    "        part_c[cnt] = part_dict_count[int(row[3])-1][row[0]]\n",
    "\n",
    "        answered_correctly_sum_u_dict[row[0]] += row[1]\n",
    "        count_u_dict[row[0]] += 1\n",
    "\n",
    "        part_dict_sum[int(row[3])-1][row[0]] += row[1]\n",
    "        part_dict_count[int(row[3])-1][row[0]] += 1\n",
    "\n",
    "        if row[2] not in content_dict[row[0]]:\n",
    "            content_dict[row[0]].append(row[2])\n",
    "            bool[cnt] = 1\n",
    "        else:\n",
    "            bool[cnt] = 0\n",
    "\n",
    "    user_feats_df = pd.DataFrame({'answered_correctly_sum_u':acsu, 'count_u':cu, 'first_time': bool,'part_sum_u':part_auc,'part_count_u':part_c})\n",
    "    user_feats_df['answered_correctly_avg_u'] = user_feats_df['answered_correctly_sum_u'] / user_feats_df['count_u']\n",
    "    user_feats_df['part_avg_u'] = user_feats_df['part_sum_u'] / user_feats_df['part_count_u']\n",
    "    df = pd.concat([df, user_feats_df], axis=1)\n",
    "    \n",
    "    return df\n",
    "\n",
    "def add_user_feats_without_update(df, answered_correctly_sum_u_dict, count_u_dict, content_dict):\n",
    "    acsu = np.zeros(len(df), dtype=np.int32)\n",
    "    cu = np.zeros(len(df), dtype=np.int32)\n",
    "    bool = np.zeros(len(df), dtype=np.int8)\n",
    "    \n",
    "    for cnt,row in enumerate(df[['user_id','content_type_id']].values):\n",
    "        acsu[cnt] = answered_correctly_sum_u_dict[row[0]]\n",
    "        cu[cnt] = count_u_dict[row[0]]\n",
    "        \n",
    "        if row[1] not in content_dict[row[0]]:\n",
    "            bool[cnt] = 1\n",
    "        else:\n",
    "            bool[cnt] = 0\n",
    "            \n",
    "    user_feats_df = pd.DataFrame({'answered_correctly_sum_u':acsu, 'count_u':cu, 'first_time': bool})\n",
    "    user_feats_df['answered_correctly_avg_u'] = user_feats_df['answered_correctly_sum_u'] / user_feats_df['count_u']\n",
    "    df = pd.concat([df, user_feats_df], axis=1)\n",
    "    return df\n",
    "\n",
    "def update_user_feats(df, answered_correctly_sum_u_dict, count_u_dict, content_dict):\n",
    "    for row in df[['user_id','answered_correctly','content_type_id']].values:\n",
    "        if row[2] == 0:\n",
    "            answered_correctly_sum_u_dict[row[0]] += row[1]\n",
    "            count_u_dict[row[0]] += 1\n",
    "            content_dict[row[0]].append(row[2])"
   ]
  },
  {
   "cell_type": "code",
   "execution_count": 6,
   "metadata": {},
   "outputs": [],
   "source": [
    "part_dict_sum = [ defaultdict(int) for i in range(7)]\n",
    "part_dict_count = [ defaultdict(int) for i in range(7)]\n",
    "answered_correctly_sum_u_dict = defaultdict(int)\n",
    "count_u_dict = defaultdict(int)\n",
    "content_dict = defaultdict(list)"
   ]
  },
  {
   "cell_type": "code",
   "execution_count": 7,
   "metadata": {},
   "outputs": [
    {
     "data": {
      "application/vnd.jupyter.widget-view+json": {
       "model_id": "18a4a26c1bf34318999a856a9909065a",
       "version_major": 2,
       "version_minor": 0
      },
      "text/plain": [
       "HBox(children=(FloatProgress(value=0.0, max=9569193.0), HTML(value='')))"
      ]
     },
     "metadata": {},
     "output_type": "display_data"
    },
    {
     "name": "stdout",
     "output_type": "stream",
     "text": [
      "\n"
     ]
    },
    {
     "data": {
      "application/vnd.jupyter.widget-view+json": {
       "model_id": "23ce50973ab1452bb3f98060457a8272",
       "version_major": 2,
       "version_minor": 0
      },
      "text/plain": [
       "HBox(children=(FloatProgress(value=0.0, max=245437.0), HTML(value='')))"
      ]
     },
     "metadata": {},
     "output_type": "display_data"
    },
    {
     "name": "stdout",
     "output_type": "stream",
     "text": [
      "\n"
     ]
    }
   ],
   "source": [
    "# user stats features with loops\n",
    "train = add_user_feats(train, answered_correctly_sum_u_dict, count_u_dict, content_dict, part_dict_sum, part_dict_count)\n",
    "train.to_pickle('preprocess_fea_v2/small_train.pickle')\n",
    "valid = add_user_feats(valid, answered_correctly_sum_u_dict, count_u_dict, content_dict, part_dict_sum, part_dict_count )\n",
    "valid.to_pickle('preprocess_fea_v2/small_valid.pickle')"
   ]
  },
  {
   "cell_type": "code",
   "execution_count": 8,
   "metadata": {},
   "outputs": [],
   "source": [
    "import pickle\n",
    "\n",
    "with open(\"preprocess_fea_v2/answered_correctly_sum_u_dict.pickle\", \"wb\") as filename:  \n",
    "    pickle.dump(answered_correctly_sum_u_dict, filename)\n",
    "    filename.close()\n",
    "\n",
    "with open(\"preprocess_fea_v2/count_u_dict.pickle\", \"wb\") as filename:  \n",
    "    pickle.dump(count_u_dict, filename)\n",
    "    filename.close()\n",
    "\n",
    "with open(\"preprocess_fea_v2/content_dict.pickle\", \"wb\") as filename:  \n",
    "    pickle.dump(content_dict, filename)\n",
    "    filename.close()\n",
    "    \n",
    "with open(\"preprocess_fea_v2/part_dict_sum.pickle\", \"wb\") as filename:  \n",
    "    pickle.dump(part_dict_sum, filename)\n",
    "    filename.close()\n",
    "    \n",
    "with open(\"preprocess_fea_v2/part_dict_count.pickle\", \"wb\") as filename:  \n",
    "    pickle.dump(part_dict_count, filename)\n",
    "    filename.close()"
   ]
  },
  {
   "cell_type": "code",
   "execution_count": 9,
   "metadata": {},
   "outputs": [],
   "source": [
    "#drop useless col\n",
    "train.drop(['timestamp','user_id','content_id','content_type_id','question_id'], axis=1, inplace=True)\n",
    "valid.drop(['timestamp','user_id','content_id','content_type_id','question_id'], axis=1, inplace=True)\n",
    "\n",
    "# changing dtype to avoid lightgbm error\n",
    "train['prior_question_had_explanation'] = train.prior_question_had_explanation.fillna(False).astype('int8')\n",
    "valid['prior_question_had_explanation'] = valid.prior_question_had_explanation.fillna(False).astype('int8')"
   ]
  },
  {
   "cell_type": "code",
   "execution_count": 10,
   "metadata": {},
   "outputs": [],
   "source": [
    "TARGET = 'answered_correctly'\n",
    "FEATS = ['answered_correctly_avg_u', 'answered_correctly_sum_u', 'count_u', 'answered_correctly_avg_c', 'part', 'prior_question_had_explanation', 'prior_question_elapsed_time','first_time']\n",
    "FEATS = FEATS + ['PCA_0','PCA_3','PCA_4','part_avg_u', 'part_sum_u', 'part_count_u']\n",
    "dro_cols = list(set(train.columns) - set(FEATS))\n",
    "y_tr = train[TARGET]\n",
    "y_va = valid[TARGET]\n",
    "train.drop(dro_cols, axis=1, inplace=True)\n",
    "valid.drop(dro_cols, axis=1, inplace=True)\n",
    "_=gc.collect()"
   ]
  },
  {
   "cell_type": "code",
   "execution_count": 11,
   "metadata": {},
   "outputs": [],
   "source": [
    "lgb_train = lgb.Dataset(train[FEATS], y_tr, categorical_feature=['part', 'prior_question_had_explanation'])\n",
    "lgb_valid = lgb.Dataset(valid[FEATS], y_va, categorical_feature=['part', 'prior_question_had_explanation'])\n",
    "del train, y_tr\n",
    "_=gc.collect()"
   ]
  },
  {
   "cell_type": "code",
   "execution_count": 12,
   "metadata": {},
   "outputs": [
    {
     "name": "stdout",
     "output_type": "stream",
     "text": [
      "Training until validation scores don't improve for 400 rounds\n",
      "[100]\ttraining's binary_logloss: 0.543105\tvalid_1's binary_logloss: 0.543869\n",
      "[200]\ttraining's binary_logloss: 0.5422\tvalid_1's binary_logloss: 0.542953\n",
      "[300]\ttraining's binary_logloss: 0.541601\tvalid_1's binary_logloss: 0.542601\n",
      "[400]\ttraining's binary_logloss: 0.541087\tvalid_1's binary_logloss: 0.542307\n",
      "[500]\ttraining's binary_logloss: 0.54064\tvalid_1's binary_logloss: 0.542071\n",
      "[600]\ttraining's binary_logloss: 0.540254\tvalid_1's binary_logloss: 0.541915\n",
      "[700]\ttraining's binary_logloss: 0.539905\tvalid_1's binary_logloss: 0.541783\n",
      "[800]\ttraining's binary_logloss: 0.53958\tvalid_1's binary_logloss: 0.541706\n",
      "[900]\ttraining's binary_logloss: 0.5393\tvalid_1's binary_logloss: 0.541653\n",
      "[1000]\ttraining's binary_logloss: 0.539012\tvalid_1's binary_logloss: 0.541597\n",
      "[1100]\ttraining's binary_logloss: 0.53874\tvalid_1's binary_logloss: 0.541538\n",
      "[1200]\ttraining's binary_logloss: 0.538464\tvalid_1's binary_logloss: 0.541501\n",
      "[1300]\ttraining's binary_logloss: 0.53819\tvalid_1's binary_logloss: 0.541451\n",
      "[1400]\ttraining's binary_logloss: 0.537924\tvalid_1's binary_logloss: 0.541409\n",
      "[1500]\ttraining's binary_logloss: 0.537668\tvalid_1's binary_logloss: 0.541378\n",
      "[1600]\ttraining's binary_logloss: 0.537406\tvalid_1's binary_logloss: 0.541329\n",
      "[1700]\ttraining's binary_logloss: 0.537175\tvalid_1's binary_logloss: 0.54128\n",
      "[1800]\ttraining's binary_logloss: 0.53695\tvalid_1's binary_logloss: 0.54128\n",
      "[1900]\ttraining's binary_logloss: 0.536718\tvalid_1's binary_logloss: 0.541275\n",
      "[2000]\ttraining's binary_logloss: 0.536496\tvalid_1's binary_logloss: 0.54129\n",
      "[2100]\ttraining's binary_logloss: 0.536281\tvalid_1's binary_logloss: 0.541287\n",
      "Early stopping, best iteration is:\n",
      "[1742]\ttraining's binary_logloss: 0.537074\tvalid_1's binary_logloss: 0.541271\n",
      "auc: 0.763253713723325\n"
     ]
    },
    {
     "data": {
      "image/png": "[encoded data removed]",
      "text/plain": [
       "<Figure size 432x288 with 1 Axes>"
      ]
     },
     "metadata": {
      "needs_background": "light"
     },
     "output_type": "display_data"
    }
   ],
   "source": [
    "model = lgb.train(\n",
    "                    {'objective': 'binary'}, \n",
    "                    lgb_train,\n",
    "                    valid_sets=[lgb_train, lgb_valid],\n",
    "                    verbose_eval=100,\n",
    "                    num_boost_round=10000,\n",
    "                    early_stopping_rounds= 400,\n",
    "                    categorical_feature=['part', 'prior_question_had_explanation']\n",
    "    \n",
    "                )\n",
    "print('auc:', roc_auc_score(y_va, model.predict(valid[FEATS])))\n",
    "_ = lgb.plot_importance(model)"
   ]
  },
  {
   "cell_type": "code",
   "execution_count": 13,
   "metadata": {},
   "outputs": [],
   "source": [
    "# tags useful \n",
    "# user for each part auc substract all user each part auc\n",
    "# to do join lectures tags ==> question tags, lecture tags encode\n",
    "# content_id useful\n",
    "\n",
    "# optuna\n"
   ]
  },
  {
   "cell_type": "code",
   "execution_count": 14,
   "metadata": {},
   "outputs": [],
   "source": [
    "#baseline: 75.84\n",
    "\n",
    "## add tags6: \n",
    "\n",
    "##pca\n",
    "# pca[0,1,2,3,4] : 76.01\n",
    "# pca[0,1,2]: 75.99\n",
    "# pca[0,3,4]: 76.00\n",
    "# pca[0,3,4,5,6]: 76.00\n",
    "\n",
    "## pca[0,3,4] + part feature: 76.34\n",
    "\n"
   ]
  }
 ],
 "metadata": {
  "kernelspec": {
   "display_name": "Python 3",
   "language": "python",
   "name": "python3"
  },
  "language_info": {
   "codemirror_mode": {
    "name": "ipython",
    "version": 3
   },
   "file_extension": ".py",
   "mimetype": "text/x-python",
   "name": "python",
   "nbconvert_exporter": "python",
   "pygments_lexer": "ipython3",
   "version": "3.7.6"
  }
 },
 "nbformat": 4,
 "nbformat_minor": 4
}
