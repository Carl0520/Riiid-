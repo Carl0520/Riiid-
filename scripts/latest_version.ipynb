{
 "cells": [
  {
   "cell_type": "code",
   "execution_count": 1,
   "metadata": {},
   "outputs": [
    {
     "data": {
      "text/html": [
       "<style type='text/css'>\n",
       ".datatable table.frame { margin-bottom: 0; }\n",
       ".datatable table.frame thead { border-bottom: none; }\n",
       ".datatable table.frame tr.coltypes td {  color: #FFFFFF;  line-height: 6px;  padding: 0 0.5em;}\n",
       ".datatable .bool    { background: #DDDD99; }\n",
       ".datatable .object  { background: #565656; }\n",
       ".datatable .int     { background: #5D9E5D; }\n",
       ".datatable .float   { background: #4040CC; }\n",
       ".datatable .str     { background: #CC4040; }\n",
       ".datatable .row_index {  background: var(--jp-border-color3);  border-right: 1px solid var(--jp-border-color0);  color: var(--jp-ui-font-color3);  font-size: 9px;}\n",
       ".datatable .frame tr.coltypes .row_index {  background: var(--jp-border-color0);}\n",
       ".datatable th:nth-child(2) { padding-left: 12px; }\n",
       ".datatable .hellipsis {  color: var(--jp-cell-editor-border-color);}\n",
       ".datatable .vellipsis {  background: var(--jp-layout-color0);  color: var(--jp-cell-editor-border-color);}\n",
       ".datatable .na {  color: var(--jp-cell-editor-border-color);  font-size: 80%;}\n",
       ".datatable .footer { font-size: 9px; }\n",
       ".datatable .frame_dimensions {  background: var(--jp-border-color3);  border-top: 1px solid var(--jp-border-color0);  color: var(--jp-ui-font-color3);  display: inline-block;  opacity: 0.6;  padding: 1px 10px 1px 5px;}\n",
       "</style>\n"
      ],
      "text/plain": [
       "<IPython.core.display.HTML object>"
      ]
     },
     "metadata": {},
     "output_type": "display_data"
    }
   ],
   "source": [
    "import pandas as pd\n",
    "import numpy as np\n",
    "import gc\n",
    "from sklearn.metrics import roc_auc_score\n",
    "from collections import defaultdict\n",
    "from tqdm.notebook import tqdm\n",
    "import lightgbm as lgb\n",
    "from datatable import dt, fread\n",
    "from utils.feature_eng import *"
   ]
  },
  {
   "cell_type": "code",
   "execution_count": 2,
   "metadata": {},
   "outputs": [],
   "source": [
    "train_path = '/home/carlchao/Riiid-/CV/small_csv_file/cv1_train.csv'\n",
    "valid_path = '/home/carlchao/Riiid-/CV/small_csv_file/cv1_valid.csv'\n",
    "test_path = \"/home/carlchao/Riiid_data/data/example_test.csv\"\n",
    "question_file = '/home/carlchao/Riiid_data/data/questions.csv'"
   ]
  },
  {
   "cell_type": "code",
   "execution_count": 3,
   "metadata": {},
   "outputs": [
    {
     "name": "stdout",
     "output_type": "stream",
     "text": [
      "CPU times: user 3.87 s, sys: 302 ms, total: 4.17 s\n",
      "Wall time: 576 ms\n"
     ]
    }
   ],
   "source": [
    "%%time\n",
    "# drop task_container_id, user_answer\n",
    "feld_needed = ['row_id', 'timestamp','user_id', 'content_id', 'content_type_id', 'answered_correctly', 'prior_question_elapsed_time', 'prior_question_had_explanation']\n",
    "train = fread(train_path).to_pandas()[feld_needed]\n",
    "valid = fread(valid_path).to_pandas()[feld_needed]\n"
   ]
  },
  {
   "cell_type": "code",
   "execution_count": 4,
   "metadata": {},
   "outputs": [],
   "source": [
    "test = fread(test_path).to_pandas()"
   ]
  },
  {
   "cell_type": "code",
   "execution_count": 5,
   "metadata": {},
   "outputs": [],
   "source": [
    "\n",
    "# part\n",
    "questions_df = pd.read_csv(question_file)\n",
    "en = Tags_encoder(5)\n",
    "questions_df = pd.concat([questions_df, en.fit_transform(questions_df['tags'].fillna(' '))], 1)\n",
    "\n",
    "train = pd.concat([train.reset_index(drop=True), questions_df[['question_id', 'part','PCA_0','PCA_3','PCA_4']].reindex(train['content_id'].values).reset_index(drop=True)], axis=1)\n",
    "valid = pd.concat([valid.reset_index(drop=True), questions_df[['question_id', 'part','PCA_0','PCA_3','PCA_4']].reindex(valid['content_id'].values).reset_index(drop=True)], axis=1)\n",
    "\n",
    "train = train.loc[train.content_type_id == False].reset_index(drop=True)\n",
    "valid = valid.loc[valid.content_type_id == False].reset_index(drop=True)\n",
    "\n",
    "# answered correctly average for each content\n",
    "content_df = train[['content_id','answered_correctly']].groupby(['content_id']).agg(['mean','sum','count','std']).reset_index()\n",
    "content_df.columns = ['content_id', 'answered_correctly_avg_c','answered_correctly_sum_c', 'answered_correctly_count_c', 'answered_correctly_std_c']\n",
    "\n",
    "train = pd.concat([train.reset_index(drop=True), content_df.reindex(train['content_id'].values).reset_index(drop=True).drop(columns=['content_id'])], axis=1)\n",
    "valid = pd.concat([valid.reset_index(drop=True), content_df.reindex(valid['content_id'].values).reset_index(drop=True).drop(columns=['content_id'])], axis=1)"
   ]
  },
  {
   "cell_type": "code",
   "execution_count": 6,
   "metadata": {},
   "outputs": [],
   "source": [
    "\n",
    "\n",
    "def add_user_feats(df, answered_correctly_sum_u_dict, content_dict, part_dict_sum):\n",
    "    \n",
    "    acsu = np.zeros(len(df), dtype=np.int32)\n",
    "    cu = np.zeros(len(df), dtype=np.int32)\n",
    "    bool = np.zeros(len(df), dtype=np.int8)\n",
    "    part_auc = np.zeros(len(df), dtype=np.int32)\n",
    "    part_c = np.zeros(len(df), dtype=np.int32)\n",
    "    \n",
    "    \n",
    "    for cnt,row in enumerate(tqdm(df[['user_id','answered_correctly','content_id','part']].values)):\n",
    "\n",
    "        acsu[cnt] = np.sum( answered_correctly_sum_u_dict[row[0]] )\n",
    "        cu[cnt] = len( answered_correctly_sum_u_dict[row[0]] )\n",
    "        \n",
    "        part_auc[cnt] = np.sum( part_dict_sum[int(row[3])-1][row[0]] )\n",
    "        part_c[cnt] = len( part_dict_sum[int(row[3])-1][row[0]] )\n",
    "\n",
    "        answered_correctly_sum_u_dict[row[0]].append( row[1] )\n",
    "        part_dict_sum[int(row[3])-1][row[0]].append( row[1] )\n",
    "      \n",
    "        if row[2] not in content_dict[row[0]]:\n",
    "            content_dict[row[0]].append(row[2])\n",
    "            bool[cnt] = 1\n",
    "        else:\n",
    "            bool[cnt] = 0\n",
    "\n",
    "    user_feats_df = pd.DataFrame({'answered_correctly_sum_u':acsu, 'count_u':cu, 'first_time': bool,'part_sum_u':part_auc,'part_count_u':part_c})\n",
    "    user_feats_df['answered_correctly_avg_u'] = user_feats_df['answered_correctly_sum_u'] / user_feats_df['count_u']\n",
    "    user_feats_df['part_avg_u'] = user_feats_df['part_sum_u'] / user_feats_df['part_count_u']\n",
    "    df = pd.concat([df, user_feats_df], axis=1)\n",
    "    \n",
    "    return df\n",
    "\n",
    "def add_user_feats_without_update(df, answered_correctly_sum_u_dict, content_dict, part_dict_sum):\n",
    "    acsu = np.zeros(len(df), dtype=np.int32)\n",
    "    cu = np.zeros(len(df), dtype=np.int32)\n",
    "    bool = np.zeros(len(df), dtype=np.int8)\n",
    "    part_auc = np.zeros(len(df), dtype=np.int32)\n",
    "    part_c = np.zeros(len(df), dtype=np.int32)\n",
    "    \n",
    "    for cnt,row in enumerate(df[['user_id','content_id','part']].values):\n",
    "        acsu[cnt] = np.sum( answered_correctly_sum_u_dict[row[0]] )\n",
    "        cu[cnt] = len( answered_correctly_sum_u_dict[row[0]] )\n",
    "        part_auc[cnt] = np.sum( part_dict_sum[int(row[2])-1][row[0]] )\n",
    "        part_c[cnt] = len( part_dict_sum[int(row[2])-1][row[0]] )\n",
    "        \n",
    "        \n",
    "        if row[1] not in content_dict[row[0]]:\n",
    "            bool[cnt] = 1\n",
    "        else:\n",
    "            bool[cnt] = 0\n",
    "            \n",
    "    user_feats_df = pd.DataFrame({'answered_correctly_sum_u':acsu, 'count_u':cu, 'first_time': bool,'part_sum_u':part_auc,'part_count_u':part_c})\n",
    "    user_feats_df['answered_correctly_avg_u'] = user_feats_df['answered_correctly_sum_u'] / user_feats_df['count_u']\n",
    "    user_feats_df['part_avg_u'] = user_feats_df['part_sum_u'] / user_feats_df['part_count_u']\n",
    "    df = pd.concat([df, user_feats_df], axis=1)\n",
    "    \n",
    "    return df\n",
    "\n",
    "def update_user_feats(df, answered_correctly_sum_u_dict, count_u_dict, content_dict):\n",
    "    for row in df[['user_id','answered_correctly','content_type_id','part']].values:\n",
    "        if row[2] == 0:\n",
    "            answered_correctly_sum_u_dict[row[0]].append( row[1] )\n",
    "            part_dict_sum[int(row[3])-1][row[0]].append( row[1] )"
   ]
  },
  {
   "cell_type": "code",
   "execution_count": 7,
   "metadata": {},
   "outputs": [],
   "source": [
    "part_dict_sum = [ defaultdict(list) for i in range(7)]\n",
    "answered_correctly_sum_u_dict = defaultdict(list)\n",
    "content_dict = defaultdict(list)"
   ]
  },
  {
   "cell_type": "code",
   "execution_count": null,
   "metadata": {},
   "outputs": [
    {
     "data": {
      "application/vnd.jupyter.widget-view+json": {
       "model_id": "f9cdcf343aeb445987697e47021a35e4",
       "version_major": 2,
       "version_minor": 0
      },
      "text/plain": [
       "HBox(children=(FloatProgress(value=0.0, max=9569193.0), HTML(value='')))"
      ]
     },
     "metadata": {},
     "output_type": "display_data"
    }
   ],
   "source": [
    "# user stats features with loops\n",
    "train = add_user_feats(train, answered_correctly_sum_u_dict, content_dict, part_dict_sum)\n",
    "train.to_pickle('preprocess_fea_v3/small_train.pickle')\n",
    "valid = add_user_feats_without_update(valid, answered_correctly_sum_u_dict, content_dict, part_dict_sum)\n",
    "valid.to_pickle('preprocess_fea_v3/small_valid.pickle')"
   ]
  },
  {
   "cell_type": "code",
   "execution_count": null,
   "metadata": {},
   "outputs": [],
   "source": [
    "import pickle\n",
    "\n",
    "with open(\"preprocess_fea_v3/answered_correctly_sum_u_dict.pickle\", \"wb\") as filename:  \n",
    "    pickle.dump(answered_correctly_sum_u_dict, filename)\n",
    "    filename.close()\n",
    "\n",
    "with open(\"preprocess_fea_v3/content_dict.pickle\", \"wb\") as filename:  \n",
    "    pickle.dump(content_dict, filename)\n",
    "    filename.close()\n",
    "    \n",
    "with open(\"preprocess_fea_v3/part_dict_sum.pickle\", \"wb\") as filename:  \n",
    "    pickle.dump(part_dict_sum, filename)\n",
    "    filename.close()"
   ]
  },
  {
   "cell_type": "code",
   "execution_count": null,
   "metadata": {},
   "outputs": [],
   "source": [
    "\n",
    "#drop useless col\n",
    "\n",
    "train.drop(['user_id','content_id','content_type_id','question_id'], axis=1, inplace=True)\n",
    "valid.drop(['user_id','content_id','content_type_id','question_id'], axis=1, inplace=True)\n",
    "\n",
    "\n",
    "# changing dtype to avoid lightgbm error\n",
    "train['prior_question_had_explanation'] = train.prior_question_had_explanation.fillna(False).astype('int8')\n",
    "valid['prior_question_had_explanation'] = valid.prior_question_had_explanation.fillna(False).astype('int8')"
   ]
  },
  {
   "cell_type": "code",
   "execution_count": null,
   "metadata": {},
   "outputs": [],
   "source": [
    "TARGET = 'answered_correctly'\n",
    "FEATS = ['answered_correctly_avg_u', 'answered_correctly_sum_u', 'count_u', 'answered_correctly_avg_c', 'part', 'prior_question_had_explanation', 'prior_question_elapsed_time','first_time']\n",
    "FEATS = FEATS + ['PCA_0','PCA_3','PCA_4','part_avg_u', 'part_sum_u', 'part_count_u','answered_correctly_sum_c', 'answered_correctly_count_c', 'answered_correctly_std_c']\n",
    "dro_cols = list(set(train.columns) - set(FEATS))\n",
    "y_tr = train[TARGET]\n",
    "y_va = valid[TARGET]\n",
    "train.drop(dro_cols, axis=1, inplace=True)\n",
    "valid.drop(dro_cols, axis=1, inplace=True)\n",
    "_=gc.collect()"
   ]
  },
  {
   "cell_type": "code",
   "execution_count": null,
   "metadata": {},
   "outputs": [],
   "source": [
    "# fillna \n",
    "train.describe().loc['mean']"
   ]
  },
  {
   "cell_type": "code",
   "execution_count": null,
   "metadata": {},
   "outputs": [],
   "source": [
    "lgb_train = lgb.Dataset(train[FEATS], y_tr, categorical_feature=['part', 'prior_question_had_explanation'])\n",
    "lgb_valid = lgb.Dataset(valid[FEATS], y_va, categorical_feature=['part', 'prior_question_had_explanation'])\n",
    "del train, y_tr\n",
    "_=gc.collect()"
   ]
  },
  {
   "cell_type": "code",
   "execution_count": null,
   "metadata": {},
   "outputs": [],
   "source": [
    "model = lgb.train(\n",
    "                    {'objective': 'binary'}, \n",
    "                    lgb_train,\n",
    "                    valid_sets=[lgb_train, lgb_valid],\n",
    "                    verbose_eval=100,\n",
    "                    num_boost_round=10000,\n",
    "                    early_stopping_rounds= 300,\n",
    "                    categorical_feature=['part', 'prior_question_had_explanation']\n",
    "    \n",
    "                )\n",
    "print('auc:', roc_auc_score(y_va, model.predict(valid[FEATS])))\n",
    "_ = lgb.plot_importance(model)"
   ]
  },
  {
   "cell_type": "code",
   "execution_count": null,
   "metadata": {},
   "outputs": [],
   "source": [
    "\n",
    "# ans = test_df['prior_group_answers_correct'][0]\n",
    "# test_df = test_df.sort_values(['user_id','timestamp'], ascending=False)\n",
    "# test_df = test_df[test_df['content_type_id'] == 0].reset_index(drop=True)\n",
    "# test_df = pd.concat([test_df.reset_index(drop=True), questions_df[['question_id', 'part','PCA_0','PCA_3','PCA_4']].reindex(test_df['content_id'].values).reset_index(drop=True)], axis=1)\n",
    "# test_df = pd.concat([test_df.reset_index(drop=True), content_df.reindex(test_df['content_id'].values).reset_index(drop=True).drop(columns=['content_id'])], axis=1)\n",
    "# test_df_save = test_df.copy()\n",
    "# if ans !='[]':\n",
    "#     test_df_save['answered_correctly'] = ans\n",
    "#     test_df = update_user_feats(test_df, answered_correctly_sum_u_dict, content_dict, part_dict_sum)\n",
    "    \n",
    "# test_df['prior_question_had_explanation'] = test_df.prior_question_had_explanation.fillna(False).astype('int8')"
   ]
  }
 ],
 "metadata": {
  "kernelspec": {
   "display_name": "Python 3",
   "language": "python",
   "name": "python3"
  },
  "language_info": {
   "codemirror_mode": {
    "name": "ipython",
    "version": 3
   },
   "file_extension": ".py",
   "mimetype": "text/x-python",
   "name": "python",
   "nbconvert_exporter": "python",
   "pygments_lexer": "ipython3",
   "version": "3.7.6"
  }
 },
 "nbformat": 4,
 "nbformat_minor": 4
}
