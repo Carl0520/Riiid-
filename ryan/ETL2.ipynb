{
 "cells": [
  {
   "cell_type": "code",
   "execution_count": 1,
   "metadata": {},
   "outputs": [
    {
     "data": {
      "text/html": [
       "<style type='text/css'>\n",
       ".datatable table.frame { margin-bottom: 0; }\n",
       ".datatable table.frame thead { border-bottom: none; }\n",
       ".datatable table.frame tr.coltypes td {  color: #FFFFFF;  line-height: 6px;  padding: 0 0.5em;}\n",
       ".datatable .bool    { background: #DDDD99; }\n",
       ".datatable .object  { background: #565656; }\n",
       ".datatable .int     { background: #5D9E5D; }\n",
       ".datatable .float   { background: #4040CC; }\n",
       ".datatable .str     { background: #CC4040; }\n",
       ".datatable .row_index {  background: var(--jp-border-color3);  border-right: 1px solid var(--jp-border-color0);  color: var(--jp-ui-font-color3);  font-size: 9px;}\n",
       ".datatable .frame tr.coltypes .row_index {  background: var(--jp-border-color0);}\n",
       ".datatable th:nth-child(2) { padding-left: 12px; }\n",
       ".datatable .hellipsis {  color: var(--jp-cell-editor-border-color);}\n",
       ".datatable .vellipsis {  background: var(--jp-layout-color0);  color: var(--jp-cell-editor-border-color);}\n",
       ".datatable .na {  color: var(--jp-cell-editor-border-color);  font-size: 80%;}\n",
       ".datatable .footer { font-size: 9px; }\n",
       ".datatable .frame_dimensions {  background: var(--jp-border-color3);  border-top: 1px solid var(--jp-border-color0);  color: var(--jp-ui-font-color3);  display: inline-block;  opacity: 0.6;  padding: 1px 10px 1px 5px;}\n",
       "</style>\n"
      ],
      "text/plain": [
       "<IPython.core.display.HTML object>"
      ]
     },
     "metadata": {},
     "output_type": "display_data"
    },
    {
     "ename": "NameError",
     "evalue": "name 'riiideducation' is not defined",
     "output_type": "error",
     "traceback": [
      "\u001b[0;31m---------------------------------------------------------------------------\u001b[0m",
      "\u001b[0;31mNameError\u001b[0m                                 Traceback (most recent call last)",
      "\u001b[0;32m<ipython-input-1-87759768cc67>\u001b[0m in \u001b[0;36m<module>\u001b[0;34m\u001b[0m\n\u001b[1;32m      6\u001b[0m \u001b[0;32mfrom\u001b[0m \u001b[0msklearn\u001b[0m\u001b[0;34m.\u001b[0m\u001b[0mmetrics\u001b[0m \u001b[0;32mimport\u001b[0m \u001b[0mroc_auc_score\u001b[0m\u001b[0;34m\u001b[0m\u001b[0;34m\u001b[0m\u001b[0m\n\u001b[1;32m      7\u001b[0m \u001b[0;32mimport\u001b[0m \u001b[0mresource\u001b[0m\u001b[0;34m\u001b[0m\u001b[0;34m\u001b[0m\u001b[0m\n\u001b[0;32m----> 8\u001b[0;31m \u001b[0menv\u001b[0m \u001b[0;34m=\u001b[0m \u001b[0mriiideducation\u001b[0m\u001b[0;34m.\u001b[0m\u001b[0mmake_env\u001b[0m\u001b[0;34m(\u001b[0m\u001b[0;34m)\u001b[0m\u001b[0;34m\u001b[0m\u001b[0;34m\u001b[0m\u001b[0m\n\u001b[0m\u001b[1;32m      9\u001b[0m \u001b[0mpd\u001b[0m\u001b[0;34m.\u001b[0m\u001b[0moptions\u001b[0m\u001b[0;34m.\u001b[0m\u001b[0mdisplay\u001b[0m\u001b[0;34m.\u001b[0m\u001b[0mmax_rows\u001b[0m \u001b[0;34m=\u001b[0m \u001b[0;36m150\u001b[0m\u001b[0;34m\u001b[0m\u001b[0;34m\u001b[0m\u001b[0m\n\u001b[1;32m     10\u001b[0m \u001b[0mpd\u001b[0m\u001b[0;34m.\u001b[0m\u001b[0moptions\u001b[0m\u001b[0;34m.\u001b[0m\u001b[0mdisplay\u001b[0m\u001b[0;34m.\u001b[0m\u001b[0mmax_columns\u001b[0m \u001b[0;34m=\u001b[0m \u001b[0;36m50\u001b[0m\u001b[0;34m\u001b[0m\u001b[0;34m\u001b[0m\u001b[0m\n",
      "\u001b[0;31mNameError\u001b[0m: name 'riiideducation' is not defined"
     ]
    }
   ],
   "source": [
    "# %%time\n",
    "import pandas as pd\n",
    "from datatable import dt, fread\n",
    "import numpy as np\n",
    "from tqdm.notebook import tqdm\n",
    "from sklearn.metrics import roc_auc_score\n",
    "import resource\n",
    "env = riiideducation.make_env()\n",
    "pd.options.display.max_rows = 150\n",
    "pd.options.display.max_columns = 50\n",
    "# %% \n",
    "train = fread(\"/home/carlchao/Riiid_data/data/train.csv\")\n",
    "questions = fread('/home/carlchao/Riiid_data/data/questions.csv')\n",
    "lectures = fread('/home/carlchao/Riiid_data/data/lectures.csv')"
   ]
  },
  {
   "cell_type": "code",
   "execution_count": null,
   "metadata": {},
   "outputs": [],
   "source": [
    "%%time\n",
    "train = train.to_pandas()\n",
    "questions = questions.to_pandas()\n",
    "lectures = lectures.to_pandas()\n",
    "# %%\n",
    "train = train.astype({\n",
    "      'timestamp': 'int64',\n",
    "      'user_id': 'int32',\n",
    "      'content_id': 'int16',\n",
    "      'content_type_id': 'bool',\n",
    "      'task_container_id': 'int16',a\n",
    "      'user_answer': 'int8',\n",
    "      'answered_correctly':'int8',\n",
    "      'prior_question_elapsed_time': 'float32',\n",
    "      'prior_question_had_explanation': 'bool'\n",
    "})\n",
    "questions = questions.astype({\n",
    "      'question_id': 'int16',\n",
    "      'bundle_id': 'int16',\n",
    "      'correct_answer': 'int8',\n",
    "      'part':'int8',\n",
    "})\n",
    "questions.info()\n",
    "train.info()"
   ]
  },
  {
   "cell_type": "code",
   "execution_count": null,
   "metadata": {},
   "outputs": [],
   "source": [
    "q_target = train.loc[train.content_type_id == 0, ['content_id','answered_correctly']]\n",
    "q_target = q_target.groupby('content_id').agg(['mean','std','count'])\n",
    "q_target.columns = ['question_mean_acc', 'question_std_acc', 'question_count']\n",
    "q_target = q_target.merge(questions,how='left',left_on='content_id',right_on='question_id')\n",
    "# %% \n",
    "# task_target = train.loc[train.content_type_id == 0,['task_container_id','answered_correctly']].groupby('task_container_id').agg(['mean','std','count'])\n",
    "# task_target.columns = ['task_mean_acc', 'task_std_acc','task_count']"
   ]
  },
  {
   "cell_type": "code",
   "execution_count": null,
   "metadata": {},
   "outputs": [],
   "source": [
    "\n",
    "train = train.iloc[-2000000:]\n",
    "# %% \n",
    "train['time_diff'] = train.timestamp.diff()\n",
    "train['user_diff'] = train.user_id.diff()\n",
    "train.time_diff.min() # <0\n",
    "train.loc[(train.user_diff!=0),'time_diff']=0\n",
    "train.time_diff.min() # =0\n",
    "# NOTE time_diff 最小值為0，對同一user來說，時間為簡單遞增，不用額外排序\n",
    "# todo drop time_diff\n",
    "train['user_change'] = 1\n",
    "train.loc[train.user_diff==0,'user_change']=0\n",
    "train.drop(['time_diff','user_diff'],axis=1,inplace=True)\n",
    "train.user_change = train.user_change.astype('int8')\n",
    "# %% \n",
    "\n",
    "\n",
    "def match_tags(lecture_tags, question_tags):\n",
    "    matches = 0\n",
    "    for l_tag in lecture_tags:\n",
    "        if l_tag in question_tags:\n",
    "            matches += 1\n",
    "    return matches\n",
    "\n",
    "\n",
    "def part_match(lecture_parts, question_part):\n",
    "    if question_part in lecture_parts:\n",
    "        return 1\n",
    "    else:\n",
    "        return 0\n",
    "# %% \n",
    "lectures = lectures.set_index('lecture_id')\n",
    "questions=questions.set_index('question_id')\n",
    "# %% \n",
    "# %%time\n",
    "# NOTE 將\b某user在T時間點所看過的lecture ID 接在一起變成一個column\n",
    "\n",
    "tag_matches_ls = []\n",
    "part_matches_ls = []\n",
    "num_lecture_seen_ls = []\n",
    "question_part_seen_ls = []\n",
    "num_question_seen_ls = []\n",
    "\n",
    "lecture_seen = []\n",
    "question_part_seen = [0] * 7\n",
    "num_question_seen = 0 \n",
    "num_lecture_seen = 0 \n",
    "\n",
    "for row in tqdm(train.itertuples(),total=train.shape[0]):\n",
    "    if row.user_change !=0:\n",
    "        lecture_seen = []\n",
    "        num_lecture_seen = 0 \n",
    "        num_question_seen = 0 \n",
    "        question_part_seen = [0] *7\n",
    "\n",
    "    if row.content_type_id ==1:\n",
    "        lecture_seen.append(row.content_id)\n",
    "        num_lecture_seen += 1\n",
    "        num_tags_match = 0\n",
    "        part_match_bool = 0\n",
    "    else:\n",
    "        num_question_seen += 1\n",
    "        question_tags = questions.at[row.content_id, 'tags'].split(' ')\n",
    "        question_tags = [np.int32(i) for i in question_tags]\n",
    "        lecture_tags = [lectures.at[i, 'tag'] for i in lecture_seen]\n",
    "        # TODO \b考慮對 lecture_tags 取 set\n",
    "        num_tags_match = match_tags(lecture_tags, question_tags)\n",
    "        \n",
    "        question_part = questions.at[row.content_id, 'part']\n",
    "        question_part_seen[question_part-1] += 1\n",
    "        lecture_parts = [lectures.at[i, 'part'] for i in lecture_seen]\n",
    "        part_match_bool = part_match(lecture_parts, question_part)\n",
    "        \n",
    "    num_lecture_seen = len(lecture_seen)\n",
    "    num_lecture_seen_ls.append(num_lecture_seen)\n",
    "    num_question_seen_ls.append(num_question_seen)\n",
    "    tag_matches_ls.append(num_tags_match)\n",
    "    part_matches_ls.append(part_match_bool)\n",
    "    question_part_seen_ls.append(question_part_seen.copy())\n",
    "\n",
    "# %% \n",
    "\n",
    "# 將做好的list 塞回去train 然後\b只保留question row\n",
    "train['num_lecture_seen'] =num_lecture_seen_ls\n",
    "train['num_question_seen'] =num_question_seen_ls\n",
    "train['num_tags_match'] =tag_matches_ls \n",
    "train['part_matches'] =part_matches_ls\n",
    "part_seen_col = ['part1_seen','part2_seen','part3_seen','part4_seen','part5_seen','part6_seen','part7_seen']\n",
    "part_seen = pd.DataFrame(question_part_seen_ls,columns=part_seen_col)\n",
    "train = train.reset_index(drop=True)\n",
    "train =pd.concat([train,part_seen],axis=1) \n",
    "\n",
    "\n",
    "train = train[train.content_type_id==0].reset_index(drop=True)\n",
    "del num_lecture_seen_ls \n",
    "del tag_matches_ls \n",
    "del part_matches_ls \n",
    "del question_part_seen_ls\n",
    "del num_question_seen_ls\n",
    "# %% \n",
    "# %% \n",
    "train['time_min'] = train[['timestamp','user_id']].groupby('user_id').transform('min')\n",
    "train.timestamp = train.timestamp -train.time_min\n",
    "train.timestamp.clip(lower = 1,inplace=True)\n",
    "train.timestamp = np.log(train.timestamp)\n",
    "\n",
    "train.prior_question_elapsed_time.fillna(train.prior_question_elapsed_time.mean(),inplace=True)\n",
    "train.prior_question_elapsed_time.clip(lower = 1,inplace=True)\n",
    "train.prior_question_elapsed_time = np.log(train.prior_question_elapsed_time)\n",
    "# %% \n",
    "final_train = train.merge(q_target[['question_mean_acc', 'question_std_acc', 'question_count', 'part', 'question_id']],\n",
    "how='left',left_on='content_id',right_on='question_id')\n",
    "# final_train = final_train.merge(task_target,how='left',on='task_container_id')\n"
   ]
  },
  {
   "cell_type": "code",
   "execution_count": null,
   "metadata": {},
   "outputs": [],
   "source": [
    "final_train.drop(['user_id','row_id','content_id','content_type_id','task_container_id','question_id','time_min'],axis=1,inplace=True)\n",
    "final_train.shape\n",
    "# user_change"
   ]
  },
  {
   "cell_type": "code",
   "execution_count": null,
   "metadata": {},
   "outputs": [],
   "source": [
    "# import joblib\n",
    "# joblib.dump(final_train,'etl_v1.pkl')"
   ]
  },
  {
   "cell_type": "code",
   "execution_count": null,
   "metadata": {},
   "outputs": [],
   "source": [
    "import joblib\n",
    "final_train = joblib.load('etl_v1.pkl')"
   ]
  },
  {
   "cell_type": "code",
   "execution_count": null,
   "metadata": {},
   "outputs": [],
   "source": [
    "from  sklearn.model_selection import train_test_split\n",
    "import gc\n",
    "Y = final_train['answered_correctly']\n",
    "X = final_train.drop(columns =['answered_correctly'])\n",
    "Xt, Xv, Yt, Yv = train_test_split(X, Y, test_size =0.2, shuffle=False)\n",
    "del Y, X, final_train\n"
   ]
  },
  {
   "cell_type": "code",
   "execution_count": null,
   "metadata": {},
   "outputs": [],
   "source": [
    "from  sklearn.model_selection import train_test_split\n",
    "import gc\n",
    "Y = final_train['answered_correctly']\n",
    "X = final_train.drop(columns =['answered_correctly'])\n",
    "Xt, Xv, Yt, Yv = train_test_split(X, Y, test_size =0.2, shuffle=False)\n",
    "del Y, X, final_train"
   ]
  },
  {
   "cell_type": "code",
   "execution_count": null,
   "metadata": {},
   "outputs": [],
   "source": [
    "final_train"
   ]
  },
  {
   "cell_type": "code",
   "execution_count": null,
   "metadata": {},
   "outputs": [],
   "source": [
    "gc.collect()\n",
    "import lightgbm as lgb\n",
    "\n",
    "params = {\n",
    "    'objective': 'binary',\n",
    "    'max_bin': 600,\n",
    "    'learning_rate': 0.02,\n",
    "    'num_leaves': 80\n",
    "}\n",
    "\n",
    "\n",
    "lgb_train = lgb.Dataset(Xt, Yt,categorical_feature = ['user_answer','prior_question_had_explanation','user_change','part'])\n",
    "lgb_eval = lgb.Dataset(Xv, Yv, reference=lgb_train,categorical_feature = ['user_answer','prior_question_had_explanation','user_change','part'])\n",
    "\n",
    "model = lgb.train(\n",
    "    params, lgb_train,\n",
    "    valid_sets=[lgb_train, lgb_eval],\n",
    "    verbose_eval=100,\n",
    "    num_boost_round=10000,\n",
    "    early_stopping_rounds=10,\n",
    "    categorical_feature = ['user_answer','prior_question_had_explanation','user_change','part']\n",
    ")"
   ]
  },
  {
   "cell_type": "code",
   "execution_count": null,
   "metadata": {},
   "outputs": [],
   "source": [
    "y_pred = model.predict(Xv)\n",
    "y_true = np.array(Yv)\n",
    "roc_auc_score(y_true, y_pred)"
   ]
  },
  {
   "cell_type": "code",
   "execution_count": null,
   "metadata": {},
   "outputs": [],
   "source": [
    "import matplotlib.pyplot as plt\n",
    "import seaborn as sns\n",
    "#displaying the most important features\n",
    "lgb.plot_importance(model)\n",
    "plt.show()"
   ]
  }
 ],
 "metadata": {
  "kernelspec": {
   "display_name": "Python 3",
   "language": "python",
   "name": "python3"
  },
  "language_info": {
   "codemirror_mode": {
    "name": "ipython",
    "version": 3
   },
   "file_extension": ".py",
   "mimetype": "text/x-python",
   "name": "python",
   "nbconvert_exporter": "python",
   "pygments_lexer": "ipython3",
   "version": "3.7.6"
  }
 },
 "nbformat": 4,
 "nbformat_minor": 4
}
