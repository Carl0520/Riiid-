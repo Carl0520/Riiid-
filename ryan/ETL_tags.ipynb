{
 "cells": [
  {
   "cell_type": "code",
   "execution_count": 1,
   "metadata": {},
   "outputs": [
    {
     "data": {
      "text/html": [
       "<style type='text/css'>\n",
       ".datatable table.frame { margin-bottom: 0; }\n",
       ".datatable table.frame thead { border-bottom: none; }\n",
       ".datatable table.frame tr.coltypes td {  color: #FFFFFF;  line-height: 6px;  padding: 0 0.5em;}\n",
       ".datatable .bool    { background: #DDDD99; }\n",
       ".datatable .object  { background: #565656; }\n",
       ".datatable .int     { background: #5D9E5D; }\n",
       ".datatable .float   { background: #4040CC; }\n",
       ".datatable .str     { background: #CC4040; }\n",
       ".datatable .row_index {  background: var(--jp-border-color3);  border-right: 1px solid var(--jp-border-color0);  color: var(--jp-ui-font-color3);  font-size: 9px;}\n",
       ".datatable .frame tr.coltypes .row_index {  background: var(--jp-border-color0);}\n",
       ".datatable th:nth-child(2) { padding-left: 12px; }\n",
       ".datatable .hellipsis {  color: var(--jp-cell-editor-border-color);}\n",
       ".datatable .vellipsis {  background: var(--jp-layout-color0);  color: var(--jp-cell-editor-border-color);}\n",
       ".datatable .na {  color: var(--jp-cell-editor-border-color);  font-size: 80%;}\n",
       ".datatable .footer { font-size: 9px; }\n",
       ".datatable .frame_dimensions {  background: var(--jp-border-color3);  border-top: 1px solid var(--jp-border-color0);  color: var(--jp-ui-font-color3);  display: inline-block;  opacity: 0.6;  padding: 1px 10px 1px 5px;}\n",
       "</style>\n"
      ],
      "text/plain": [
       "<IPython.core.display.HTML object>"
      ]
     },
     "metadata": {},
     "output_type": "display_data"
    },
    {
     "name": "stdout",
     "output_type": "stream",
     "text": [
      "CPU times: user 1min 11s, sys: 19.7 s, total: 1min 31s\n",
      "Wall time: 45.2 s\n"
     ]
    }
   ],
   "source": [
    "%%time\n",
    "import pandas as pd\n",
    "from datatable import dt, fread\n",
    "import numpy as np\n",
    "from tqdm.notebook import tqdm\n",
    "from sklearn.metrics import roc_auc_score\n",
    "\n",
    "pd.options.display.max_rows = 150\n",
    "pd.options.display.max_columns = 50\n",
    "# %% \n",
    "train = fread(\"/home/carlchao/Riiid_data/data/train.csv\")\n",
    "questions = fread('/home/carlchao/Riiid_data/data/questions.csv')\n",
    "lectures = fread('/home/carlchao/Riiid_data/data/lectures.csv')"
   ]
  },
  {
   "cell_type": "code",
   "execution_count": 2,
   "metadata": {},
   "outputs": [
    {
     "name": "stdout",
     "output_type": "stream",
     "text": [
      "<class 'pandas.core.frame.DataFrame'>\n",
      "RangeIndex: 13523 entries, 0 to 13522\n",
      "Data columns (total 5 columns):\n",
      "question_id       13523 non-null int16\n",
      "bundle_id         13523 non-null int16\n",
      "correct_answer    13523 non-null int8\n",
      "part              13523 non-null int8\n",
      "tags              13523 non-null object\n",
      "dtypes: int16(2), int8(2), object(1)\n",
      "memory usage: 185.0+ KB\n",
      "<class 'pandas.core.frame.DataFrame'>\n",
      "RangeIndex: 101230332 entries, 0 to 101230331\n",
      "Data columns (total 10 columns):\n",
      "row_id                            int32\n",
      "timestamp                         int64\n",
      "user_id                           int32\n",
      "content_id                        int16\n",
      "content_type_id                   bool\n",
      "task_container_id                 int16\n",
      "user_answer                       int8\n",
      "answered_correctly                int8\n",
      "prior_question_elapsed_time       float32\n",
      "prior_question_had_explanation    bool\n",
      "dtypes: bool(2), float32(1), int16(2), int32(2), int64(1), int8(2)\n",
      "memory usage: 2.6 GB\n",
      "CPU times: user 5.55 s, sys: 2.2 s, total: 7.75 s\n",
      "Wall time: 6.44 s\n"
     ]
    }
   ],
   "source": [
    "%%time\n",
    "train = train.to_pandas()\n",
    "questions = questions.to_pandas()\n",
    "lectures = lectures.to_pandas()\n",
    "\n",
    "train = train.astype({\n",
    "      'timestamp': 'int64',\n",
    "      'user_id': 'int32',\n",
    "      'content_id': 'int16',\n",
    "      'content_type_id': 'bool',\n",
    "      'task_container_id': 'int16',\n",
    "      'user_answer': 'int8',\n",
    "      'answered_correctly':'int8',\n",
    "      'prior_question_elapsed_time': 'float32',\n",
    "      'prior_question_had_explanation': 'bool'\n",
    "})\n",
    "questions = questions.astype({\n",
    "      'question_id': 'int16',\n",
    "      'bundle_id': 'int16',\n",
    "      'correct_answer': 'int8',\n",
    "      'part':'int8',\n",
    "})\n",
    "questions.info()\n",
    "train.info()"
   ]
  },
  {
   "cell_type": "code",
   "execution_count": null,
   "metadata": {},
   "outputs": [],
   "source": [
    "%%time \n",
    "# question\n",
    "q_target = train.loc[train.content_type_id == 0, ['content_id','answered_correctly']]\n",
    "q_target = q_target.groupby('content_id').agg(['mean','count'])\n",
    "q_target.columns = ['question_mean_acc', 'question_count']\n",
    "q_target = q_target.merge(questions,how='left',left_on='content_id',right_on='question_id')"
   ]
  },
  {
   "cell_type": "code",
   "execution_count": 15,
   "metadata": {},
   "outputs": [],
   "source": [
    "from sklearn.feature_extraction.text import CountVectorizer\n",
    "from sklearn.feature_extraction.text import TfidfTransformer\n",
    "from sklearn.decomposition import KernelPCA\n",
    "\n",
    "class Tags_encoder():\n",
    "    def __init__(self, n):\n",
    "        self.n = n\n",
    "        self.vectorizer = CountVectorizer()\n",
    "        self.transformer = TfidfTransformer()\n",
    "        self.kpca = KernelPCA(n_components= self.n, kernel='linear')\n",
    "    \n",
    "    def fit_transform(self, x):\n",
    "        \n",
    "        x = self.vectorizer.fit_transform(x)\n",
    "        x = self.transformer.fit_transform(x)\n",
    "        x = self.kpca.fit_transform(x.toarray())\n",
    "        return pd.DataFrame(x,columns=['PCA_' + str(i) for i in range(self.n)])\n",
    "    \n",
    "    \n",
    "    def transform(self,x):\n",
    "        \n",
    "        x = self.vectorizer.transform(x)\n",
    "        x = self.transformer.transform(x)\n",
    "        x = self.kpca.transform(x.toarray())\n",
    "        return pd.DataFrame(x,columns=['PCA_' + str(i) for i in range(self.n)])\n",
    "        \n",
    "\n",
    "# en = Tags_encoder(5)\n",
    "# en.fit_transform(questions['tags'])\n",
    "# en.transform(questions['tags'])"
   ]
  },
  {
   "cell_type": "code",
   "execution_count": 3,
   "metadata": {},
   "outputs": [],
   "source": [
    "from sklearn.preprocessing import KBinsDiscretizer\n",
    "\n",
    "class Tbins_qauc_encode():\n",
    "    def __init__(self,input_df, n =200):\n",
    "        self.disc = KBinsDiscretizer(n_bins=n, encode='ordinal', strategy='quantile')\n",
    "        self.tmp = input_df[['timestamp','answered_correctly']].copy()\n",
    "        \n",
    "    def fit_transform(self):\n",
    "        self.disc.fit(self.tmp[['timestamp']])\n",
    "        self.tmp['ts_bin'] = self.disc.transform(self.tmp[['timestamp']])\n",
    "        self.tmp = self.tmp.drop(columns = ['timestamp'])\n",
    "        self.tmp = self.tmp[self.tmp.answered_correctly != -1].groupby(['ts_bin'], as_index=False).mean()\n",
    "        self.tmp.columns = ['ts_bin', 'tbins_qauc_encode']\n",
    "        self.dict = self.tmp.set_index('ts_bin').to_dict()['tbins_qauc_encode']\n",
    "        return self.tmp['tbins_qauc_encode']\n",
    "    \n",
    "    # input dataframe , columns [[timestamp]]   \n",
    "    def transform(self, x):\n",
    "        x = self.disc.transform(x)\n",
    "        x = x[x.columns].apply(lambda x : self.dict[x])\n",
    "        return x\n",
    "        \n",
    "\n",
    "# trans = Tbins_qauc_encode(train)\n",
    "# trans.fit_transform()\n",
    "# x = train[['timestamp']]\n",
    "# x = trans.disc.transform(x)"
   ]
  }
 ],
 "metadata": {
  "kernelspec": {
   "display_name": "Python 3",
   "language": "python",
   "name": "python3"
  },
  "language_info": {
   "codemirror_mode": {
    "name": "ipython",
    "version": 3
   },
   "file_extension": ".py",
   "mimetype": "text/x-python",
   "name": "python",
   "nbconvert_exporter": "python",
   "pygments_lexer": "ipython3",
   "version": "3.7.6"
  }
 },
 "nbformat": 4,
 "nbformat_minor": 4
}
